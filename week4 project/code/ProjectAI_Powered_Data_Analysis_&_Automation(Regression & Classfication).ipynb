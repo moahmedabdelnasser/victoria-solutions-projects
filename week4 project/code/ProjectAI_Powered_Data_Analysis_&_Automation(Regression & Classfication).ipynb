{
 "cells": [
  {
   "cell_type": "markdown",
   "id": "5206c089",
   "metadata": {
    "id": "5206c089"
   },
   "source": [
    "## Phase 1 — Data Preparation"
   ]
  },
  {
   "cell_type": "code",
   "execution_count": null,
   "id": "afc8d4e8",
   "metadata": {
    "id": "afc8d4e8",
    "outputId": "a4a50147-ee89-4633-98c6-bf0f6e92dbad"
   },
   "outputs": [
    {
     "name": "stderr",
     "output_type": "stream",
     "text": [
      "C:\\Users\\mosta\\anaconda3\\lib\\site-packages\\pandas\\core\\computation\\expressions.py:21: UserWarning: Pandas requires version '2.8.4' or newer of 'numexpr' (version '2.8.3' currently installed).\n",
      "  from pandas.core.computation.check import NUMEXPR_INSTALLED\n",
      "C:\\Users\\mosta\\anaconda3\\lib\\site-packages\\pandas\\core\\arrays\\masked.py:60: UserWarning: Pandas requires version '1.3.6' or newer of 'bottleneck' (version '1.3.5' currently installed).\n",
      "  from pandas.core import (\n"
     ]
    },
    {
     "name": "stdout",
     "output_type": "stream",
     "text": [
      "(500, 14)\n"
     ]
    },
    {
     "data": {
      "text/html": [
       "<div>\n",
       "<style scoped>\n",
       "    .dataframe tbody tr th:only-of-type {\n",
       "        vertical-align: middle;\n",
       "    }\n",
       "\n",
       "    .dataframe tbody tr th {\n",
       "        vertical-align: top;\n",
       "    }\n",
       "\n",
       "    .dataframe thead th {\n",
       "        text-align: right;\n",
       "    }\n",
       "</style>\n",
       "<table border=\"1\" class=\"dataframe\">\n",
       "  <thead>\n",
       "    <tr style=\"text-align: right;\">\n",
       "      <th></th>\n",
       "      <th>Customer_ID</th>\n",
       "      <th>Age</th>\n",
       "      <th>Gender</th>\n",
       "      <th>Income</th>\n",
       "      <th>Spending_Score</th>\n",
       "      <th>Credit_Score</th>\n",
       "      <th>Loan_Amount</th>\n",
       "      <th>Previous_Defaults</th>\n",
       "      <th>Marketing_Spend</th>\n",
       "      <th>Purchase_Frequency</th>\n",
       "      <th>Seasonality</th>\n",
       "      <th>Sales</th>\n",
       "      <th>Customer_Churn</th>\n",
       "      <th>Defaulted</th>\n",
       "    </tr>\n",
       "  </thead>\n",
       "  <tbody>\n",
       "    <tr>\n",
       "      <th>0</th>\n",
       "      <td>1</td>\n",
       "      <td>56</td>\n",
       "      <td>Female</td>\n",
       "      <td>142418.0</td>\n",
       "      <td>7</td>\n",
       "      <td>391.0</td>\n",
       "      <td>8083.0</td>\n",
       "      <td>1</td>\n",
       "      <td>15376</td>\n",
       "      <td>3</td>\n",
       "      <td>Low</td>\n",
       "      <td>32526</td>\n",
       "      <td>0</td>\n",
       "      <td>0</td>\n",
       "    </tr>\n",
       "    <tr>\n",
       "      <th>1</th>\n",
       "      <td>2</td>\n",
       "      <td>69</td>\n",
       "      <td>Male</td>\n",
       "      <td>63088.0</td>\n",
       "      <td>82</td>\n",
       "      <td>652.0</td>\n",
       "      <td>34328.0</td>\n",
       "      <td>2</td>\n",
       "      <td>6889</td>\n",
       "      <td>6</td>\n",
       "      <td>Low</td>\n",
       "      <td>78493</td>\n",
       "      <td>0</td>\n",
       "      <td>0</td>\n",
       "    </tr>\n",
       "    <tr>\n",
       "      <th>2</th>\n",
       "      <td>3</td>\n",
       "      <td>46</td>\n",
       "      <td>Male</td>\n",
       "      <td>136868.0</td>\n",
       "      <td>91</td>\n",
       "      <td>662.0</td>\n",
       "      <td>47891.0</td>\n",
       "      <td>2</td>\n",
       "      <td>6054</td>\n",
       "      <td>29</td>\n",
       "      <td>Medium</td>\n",
       "      <td>57198</td>\n",
       "      <td>1</td>\n",
       "      <td>0</td>\n",
       "    </tr>\n",
       "    <tr>\n",
       "      <th>3</th>\n",
       "      <td>4</td>\n",
       "      <td>32</td>\n",
       "      <td>Female</td>\n",
       "      <td>NaN</td>\n",
       "      <td>34</td>\n",
       "      <td>644.0</td>\n",
       "      <td>25103.0</td>\n",
       "      <td>2</td>\n",
       "      <td>4868</td>\n",
       "      <td>8</td>\n",
       "      <td>Medium</td>\n",
       "      <td>48395</td>\n",
       "      <td>0</td>\n",
       "      <td>0</td>\n",
       "    </tr>\n",
       "    <tr>\n",
       "      <th>4</th>\n",
       "      <td>5</td>\n",
       "      <td>60</td>\n",
       "      <td>Male</td>\n",
       "      <td>59811.0</td>\n",
       "      <td>91</td>\n",
       "      <td>469.0</td>\n",
       "      <td>44891.0</td>\n",
       "      <td>1</td>\n",
       "      <td>17585</td>\n",
       "      <td>12</td>\n",
       "      <td>High</td>\n",
       "      <td>29031</td>\n",
       "      <td>1</td>\n",
       "      <td>0</td>\n",
       "    </tr>\n",
       "  </tbody>\n",
       "</table>\n",
       "</div>"
      ],
      "text/plain": [
       "   Customer_ID  Age  Gender    Income  Spending_Score  Credit_Score  \\\n",
       "0            1   56  Female  142418.0               7         391.0   \n",
       "1            2   69    Male   63088.0              82         652.0   \n",
       "2            3   46    Male  136868.0              91         662.0   \n",
       "3            4   32  Female       NaN              34         644.0   \n",
       "4            5   60    Male   59811.0              91         469.0   \n",
       "\n",
       "   Loan_Amount  Previous_Defaults  Marketing_Spend  Purchase_Frequency  \\\n",
       "0       8083.0                  1            15376                   3   \n",
       "1      34328.0                  2             6889                   6   \n",
       "2      47891.0                  2             6054                  29   \n",
       "3      25103.0                  2             4868                   8   \n",
       "4      44891.0                  1            17585                  12   \n",
       "\n",
       "  Seasonality  Sales  Customer_Churn  Defaulted  \n",
       "0         Low  32526               0          0  \n",
       "1         Low  78493               0          0  \n",
       "2      Medium  57198               1          0  \n",
       "3      Medium  48395               0          0  \n",
       "4        High  29031               1          0  "
      ]
     },
     "execution_count": 1,
     "metadata": {},
     "output_type": "execute_result"
    }
   ],
   "source": [
    "# --- Step 1: Import libraries ---\n",
    "import pandas as pd\n",
    "import numpy as np\n",
    "\n",
    "# --- Step 2: Load the raw dataset ---\n",
    "df = pd.read_csv(\"raw_dataset_week4.csv\")\n",
    "\n",
    "# Quick look at data\n",
    "print(df.shape)\n",
    "df.head()\n"
   ]
  },
  {
   "cell_type": "code",
   "execution_count": null,
   "id": "56cb4d74",
   "metadata": {
    "id": "56cb4d74",
    "outputId": "4aad36c4-f2ff-46ed-a53b-c2efc4287034"
   },
   "outputs": [
    {
     "name": "stdout",
     "output_type": "stream",
     "text": [
      "<class 'pandas.core.frame.DataFrame'>\n",
      "RangeIndex: 500 entries, 0 to 499\n",
      "Data columns (total 14 columns):\n",
      " #   Column              Non-Null Count  Dtype  \n",
      "---  ------              --------------  -----  \n",
      " 0   Customer_ID         500 non-null    int64  \n",
      " 1   Age                 500 non-null    int64  \n",
      " 2   Gender              500 non-null    object \n",
      " 3   Income              450 non-null    float64\n",
      " 4   Spending_Score      500 non-null    int64  \n",
      " 5   Credit_Score        450 non-null    float64\n",
      " 6   Loan_Amount         450 non-null    float64\n",
      " 7   Previous_Defaults   500 non-null    int64  \n",
      " 8   Marketing_Spend     500 non-null    int64  \n",
      " 9   Purchase_Frequency  500 non-null    int64  \n",
      " 10  Seasonality         500 non-null    object \n",
      " 11  Sales               500 non-null    int64  \n",
      " 12  Customer_Churn      500 non-null    int64  \n",
      " 13  Defaulted           500 non-null    int64  \n",
      "dtypes: float64(3), int64(9), object(2)\n",
      "memory usage: 54.8+ KB\n"
     ]
    },
    {
     "data": {
      "text/plain": [
       "0"
      ]
     },
     "execution_count": 2,
     "metadata": {},
     "output_type": "execute_result"
    }
   ],
   "source": [
    "# Info about datatypes & missing values\n",
    "df.info()\n",
    "\n",
    "# Summary statistics\n",
    "df.describe()\n",
    "\n",
    "# Missing values count\n",
    "df.isnull().sum()\n",
    "\n",
    "# Check duplicates\n",
    "df.duplicated().sum()"
   ]
  },
  {
   "cell_type": "code",
   "execution_count": null,
   "id": "59f1ea91",
   "metadata": {
    "id": "59f1ea91",
    "outputId": "71707f22-f19f-4b4c-9fb2-94e8cdfe6955"
   },
   "outputs": [
    {
     "data": {
      "image/png": "[encoded data removed]",
      "text/plain": [
       "<Figure size 640x480 with 1 Axes>"
      ]
     },
     "metadata": {},
     "output_type": "display_data"
    },
    {
     "name": "stdout",
     "output_type": "stream",
     "text": [
      "Outliers detected: 0\n"
     ]
    }
   ],
   "source": [
    "import matplotlib.pyplot as plt\n",
    "\n",
    "# Example: Check distribution of Sales\n",
    "plt.hist(df['Sales'], bins=30)\n",
    "plt.xlabel(\"Sales\")\n",
    "plt.ylabel(\"Frequency\")\n",
    "plt.title(\"Distribution of Sales\")\n",
    "plt.show()\n",
    "\n",
    "# Quick IQR method for outlier detection\n",
    "Q1 = df['Sales'].quantile(0.25)\n",
    "Q3 = df['Sales'].quantile(0.75)\n",
    "IQR = Q3 - Q1\n",
    "outliers = df[(df['Sales'] < Q1 - 1.5*IQR) | (df['Sales'] > Q3 + 1.5*IQR)]\n",
    "print(\"Outliers detected:\", outliers.shape[0])\n"
   ]
  },
  {
   "cell_type": "code",
   "execution_count": null,
   "id": "eaf61464",
   "metadata": {
    "id": "eaf61464",
    "outputId": "7846f739-d715-45af-e0b1-1ef1c2647b21"
   },
   "outputs": [
    {
     "name": "stdout",
     "output_type": "stream",
     "text": [
      "Income          0\n",
      "Credit_Score    0\n",
      "Loan_Amount     0\n",
      "dtype: int64\n"
     ]
    }
   ],
   "source": [
    "from sklearn.impute import KNNImputer\n",
    "\n",
    "# Select only numeric columns for KNN\n",
    "num_cols = [\"Income\", \"Credit_Score\", \"Loan_Amount\"]\n",
    "\n",
    "imputer = KNNImputer(n_neighbors=5)\n",
    "df[num_cols] = imputer.fit_transform(df[num_cols])\n",
    "\n",
    "# Check again\n",
    "print(df[num_cols].isnull().sum())\n"
   ]
  },
  {
   "cell_type": "code",
   "execution_count": null,
   "id": "4e6dbf5a",
   "metadata": {
    "id": "4e6dbf5a",
    "outputId": "8d992482-e0e9-46d2-a898-eadcddb3ab69"
   },
   "outputs": [
    {
     "name": "stdout",
     "output_type": "stream",
     "text": [
      "Processed dataset saved → processed_sales.csv\n"
     ]
    }
   ],
   "source": [
    "df.to_csv(\"processed_sales.csv\", index=False)\n",
    "print(\"Processed dataset saved → processed_sales.csv\")"
   ]
  },
  {
   "cell_type": "markdown",
   "id": "d698fa8b",
   "metadata": {
    "id": "d698fa8b"
   },
   "source": [
    "## Phase 2 — ML Modeling "
   ]
  },
  {
   "cell_type": "code",
   "execution_count": null,
   "id": "310f4a02",
   "metadata": {
    "id": "310f4a02",
    "outputId": "f2feadd1-adc9-4d43-8ee0-b853b2c55510"
   },
   "outputs": [
    {
     "name": "stdout",
     "output_type": "stream",
     "text": [
      "=== Dataset Info ===\n",
      "<class 'pandas.core.frame.DataFrame'>\n",
      "RangeIndex: 500 entries, 0 to 499\n",
      "Data columns (total 14 columns):\n",
      " #   Column              Non-Null Count  Dtype  \n",
      "---  ------              --------------  -----  \n",
      " 0   Customer_ID         500 non-null    int64  \n",
      " 1   Age                 500 non-null    int64  \n",
      " 2   Gender              500 non-null    object \n",
      " 3   Income              500 non-null    float64\n",
      " 4   Spending_Score      500 non-null    int64  \n",
      " 5   Credit_Score        500 non-null    float64\n",
      " 6   Loan_Amount         500 non-null    float64\n",
      " 7   Previous_Defaults   500 non-null    int64  \n",
      " 8   Marketing_Spend     500 non-null    int64  \n",
      " 9   Purchase_Frequency  500 non-null    int64  \n",
      " 10  Seasonality         500 non-null    object \n",
      " 11  Sales               500 non-null    int64  \n",
      " 12  Customer_Churn      500 non-null    int64  \n",
      " 13  Defaulted           500 non-null    int64  \n",
      "dtypes: float64(3), int64(9), object(2)\n",
      "memory usage: 54.8+ KB\n",
      "None\n",
      "\n",
      "=== First 5 Rows ===\n",
      "   Customer_ID  Age  Gender    Income  Spending_Score  Credit_Score  \\\n",
      "0            1   56  Female  142418.0               7         391.0   \n",
      "1            2   69    Male   63088.0              82         652.0   \n",
      "2            3   46    Male  136868.0              91         662.0   \n",
      "3            4   32  Female   43596.2              34         644.0   \n",
      "4            5   60    Male   59811.0              91         469.0   \n",
      "\n",
      "   Loan_Amount  Previous_Defaults  Marketing_Spend  Purchase_Frequency  \\\n",
      "0       8083.0                  1            15376                   3   \n",
      "1      34328.0                  2             6889                   6   \n",
      "2      47891.0                  2             6054                  29   \n",
      "3      25103.0                  2             4868                   8   \n",
      "4      44891.0                  1            17585                  12   \n",
      "\n",
      "  Seasonality  Sales  Customer_Churn  Defaulted  \n",
      "0         Low  32526               0          0  \n",
      "1         Low  78493               0          0  \n",
      "2      Medium  57198               1          0  \n",
      "3      Medium  48395               0          0  \n",
      "4        High  29031               1          0  \n",
      "\n",
      "=== Missing Values per Column ===\n",
      "Customer_ID           0\n",
      "Age                   0\n",
      "Gender                0\n",
      "Income                0\n",
      "Spending_Score        0\n",
      "Credit_Score          0\n",
      "Loan_Amount           0\n",
      "Previous_Defaults     0\n",
      "Marketing_Spend       0\n",
      "Purchase_Frequency    0\n",
      "Seasonality           0\n",
      "Sales                 0\n",
      "Customer_Churn        0\n",
      "Defaulted             0\n",
      "dtype: int64\n",
      "\n",
      "=== Duplicate Rows Count ===\n",
      "0\n",
      "\n",
      "=== Column Data Types ===\n",
      "Customer_ID             int64\n",
      "Age                     int64\n",
      "Gender                 object\n",
      "Income                float64\n",
      "Spending_Score          int64\n",
      "Credit_Score          float64\n",
      "Loan_Amount           float64\n",
      "Previous_Defaults       int64\n",
      "Marketing_Spend         int64\n",
      "Purchase_Frequency      int64\n",
      "Seasonality            object\n",
      "Sales                   int64\n",
      "Customer_Churn          int64\n",
      "Defaulted               int64\n",
      "dtype: object\n",
      "\n",
      "=== Outlier Check ===\n",
      "Customer_ID: 0 outliers\n",
      "Age: 0 outliers\n",
      "Income: 0 outliers\n",
      "Spending_Score: 0 outliers\n",
      "Credit_Score: 0 outliers\n",
      "Loan_Amount: 0 outliers\n",
      "Previous_Defaults: 0 outliers\n",
      "Marketing_Spend: 0 outliers\n",
      "Purchase_Frequency: 0 outliers\n",
      "Sales: 0 outliers\n",
      "Customer_Churn: 0 outliers\n",
      "Defaulted: 95 outliers\n"
     ]
    }
   ],
   "source": [
    "import pandas as pd\n",
    "\n",
    "# Load the dataset\n",
    "df = pd.read_csv(\"processed_sales.csv\")\n",
    "\n",
    "# ==== Basic Checks ====\n",
    "print(\"=== Dataset Info ===\")\n",
    "print(df.info())\n",
    "\n",
    "print(\"\\n=== First 5 Rows ===\")\n",
    "print(df.head())\n",
    "\n",
    "print(\"\\n=== Missing Values per Column ===\")\n",
    "print(df.isnull().sum())\n",
    "\n",
    "print(\"\\n=== Duplicate Rows Count ===\")\n",
    "print(df.duplicated().sum())\n",
    "\n",
    "print(\"\\n=== Column Data Types ===\")\n",
    "print(df.dtypes)\n",
    "\n",
    "# ==== Outlier Detection (IQR method) ====\n",
    "def detect_outliers_iqr(dataframe, column):\n",
    "    Q1 = dataframe[column].quantile(0.25)\n",
    "    Q3 = dataframe[column].quantile(0.75)\n",
    "    IQR = Q3 - Q1\n",
    "    lower_bound = Q1 - 1.5 * IQR\n",
    "    upper_bound = Q3 + 1.5 * IQR\n",
    "    outliers = dataframe[(dataframe[column] < lower_bound) | (dataframe[column] > upper_bound)]\n",
    "    return outliers\n",
    "\n",
    "print(\"\\n=== Outlier Check ===\")\n",
    "numeric_cols = df.select_dtypes(include=[\"int64\", \"float64\"]).columns\n",
    "\n",
    "for col in numeric_cols:\n",
    "    outliers = detect_outliers_iqr(df, col)\n",
    "    print(f\"{col}: {len(outliers)} outliers\")\n"
   ]
  },
  {
   "cell_type": "code",
   "execution_count": null,
   "id": "41a6eeb5",
   "metadata": {
    "id": "41a6eeb5",
    "outputId": "bd3f68ea-1148-46e5-aa19-a6a38d37a56e"
   },
   "outputs": [
    {
     "name": "stdout",
     "output_type": "stream",
     "text": [
      "count      500.000000\n",
      "mean     54378.954000\n",
      "std      27263.106468\n",
      "min       5203.000000\n",
      "25%      30507.500000\n",
      "50%      54032.500000\n",
      "75%      78523.750000\n",
      "max      99835.000000\n",
      "Name: Sales, dtype: float64\n",
      "Skew: -0.017100357071837997\n",
      "Kurtosis: -1.2243727291575333\n",
      "Correlation with Sales:\n",
      " Sales                 1.000000\n",
      "Income                0.090273\n",
      "Customer_ID           0.067957\n",
      "Previous_Defaults     0.043006\n",
      "Marketing_Spend       0.039602\n",
      "Customer_Churn        0.026496\n",
      "Credit_Score         -0.005351\n",
      "Purchase_Frequency   -0.014126\n",
      "Age                  -0.014974\n",
      "Defaulted            -0.023805\n",
      "Spending_Score       -0.023959\n",
      "Loan_Amount          -0.032630\n",
      "Name: Sales, dtype: float64\n"
     ]
    },
    {
     "data": {
      "application/vnd.plotly.v1+json": {
       "config": {
        "plotlyServerURL": "https://plot.ly"
       },
       "data": [
        {
         "nbinsx": 30,
         "type": "histogram",
         "x": {
          "bdata": "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",
          "dtype": "i4"
         }
        }
       ],
       "layout": {
        "template": {
         "data": {
          "bar": [
           {
            "error_x": {
             "color": "#2a3f5f"
            },
            "error_y": {
             "color": "#2a3f5f"
            },
            "marker": {
             "line": {
              "color": "#E5ECF6",
              "width": 0.5
             },
             "pattern": {
              "fillmode": "overlay",
              "size": 10,
              "solidity": 0.2
             }
            },
            "type": "bar"
           }
          ],
          "barpolar": [
           {
            "marker": {
             "line": {
              "color": "#E5ECF6",
              "width": 0.5
             },
             "pattern": {
              "fillmode": "overlay",
              "size": 10,
              "solidity": 0.2
             }
            },
            "type": "barpolar"
           }
          ],
          "carpet": [
           {
            "aaxis": {
             "endlinecolor": "#2a3f5f",
             "gridcolor": "white",
             "linecolor": "white",
             "minorgridcolor": "white",
             "startlinecolor": "#2a3f5f"
            },
            "baxis": {
             "endlinecolor": "#2a3f5f",
             "gridcolor": "white",
             "linecolor": "white",
             "minorgridcolor": "white",
             "startlinecolor": "#2a3f5f"
            },
            "type": "carpet"
           }
          ],
          "choropleth": [
           {
            "colorbar": {
             "outlinewidth": 0,
             "ticks": ""
            },
            "type": "choropleth"
           }
          ],
          "contour": [
           {
            "colorbar": {
             "outlinewidth": 0,
             "ticks": ""
            },
            "colorscale": [
             [
              0,
              "#0d0887"
             ],
             [
              0.1111111111111111,
              "#46039f"
             ],
             [
              0.2222222222222222,
              "#7201a8"
             ],
             [
              0.3333333333333333,
              "#9c179e"
             ],
             [
              0.4444444444444444,
              "#bd3786"
             ],
             [
              0.5555555555555556,
              "#d8576b"
             ],
             [
              0.6666666666666666,
              "#ed7953"
             ],
             [
              0.7777777777777778,
              "#fb9f3a"
             ],
             [
              0.8888888888888888,
              "#fdca26"
             ],
             [
              1,
              "#f0f921"
             ]
            ],
            "type": "contour"
           }
          ],
          "contourcarpet": [
           {
            "colorbar": {
             "outlinewidth": 0,
             "ticks": ""
            },
            "type": "contourcarpet"
           }
          ],
          "heatmap": [
           {
            "colorbar": {
             "outlinewidth": 0,
             "ticks": ""
            },
            "colorscale": [
             [
              0,
              "#0d0887"
             ],
             [
              0.1111111111111111,
              "#46039f"
             ],
             [
              0.2222222222222222,
              "#7201a8"
             ],
             [
              0.3333333333333333,
              "#9c179e"
             ],
             [
              0.4444444444444444,
              "#bd3786"
             ],
             [
              0.5555555555555556,
              "#d8576b"
             ],
             [
              0.6666666666666666,
              "#ed7953"
             ],
             [
              0.7777777777777778,
              "#fb9f3a"
             ],
             [
              0.8888888888888888,
              "#fdca26"
             ],
             [
              1,
              "#f0f921"
             ]
            ],
            "type": "heatmap"
           }
          ],
          "histogram": [
           {
            "marker": {
             "pattern": {
              "fillmode": "overlay",
              "size": 10,
              "solidity": 0.2
             }
            },
            "type": "histogram"
           }
          ],
          "histogram2d": [
           {
            "colorbar": {
             "outlinewidth": 0,
             "ticks": ""
            },
            "colorscale": [
             [
              0,
              "#0d0887"
             ],
             [
              0.1111111111111111,
              "#46039f"
             ],
             [
              0.2222222222222222,
              "#7201a8"
             ],
             [
              0.3333333333333333,
              "#9c179e"
             ],
             [
              0.4444444444444444,
              "#bd3786"
             ],
             [
              0.5555555555555556,
              "#d8576b"
             ],
             [
              0.6666666666666666,
              "#ed7953"
             ],
             [
              0.7777777777777778,
              "#fb9f3a"
             ],
             [
              0.8888888888888888,
              "#fdca26"
             ],
             [
              1,
              "#f0f921"
             ]
            ],
            "type": "histogram2d"
           }
          ],
          "histogram2dcontour": [
           {
            "colorbar": {
             "outlinewidth": 0,
             "ticks": ""
            },
            "colorscale": [
             [
              0,
              "#0d0887"
             ],
             [
              0.1111111111111111,
              "#46039f"
             ],
             [
              0.2222222222222222,
              "#7201a8"
             ],
             [
              0.3333333333333333,
              "#9c179e"
             ],
             [
              0.4444444444444444,
              "#bd3786"
             ],
             [
              0.5555555555555556,
              "#d8576b"
             ],
             [
              0.6666666666666666,
              "#ed7953"
             ],
             [
              0.7777777777777778,
              "#fb9f3a"
             ],
             [
              0.8888888888888888,
              "#fdca26"
             ],
             [
              1,
              "#f0f921"
             ]
            ],
            "type": "histogram2dcontour"
           }
          ],
          "mesh3d": [
           {
            "colorbar": {
             "outlinewidth": 0,
             "ticks": ""
            },
            "type": "mesh3d"
           }
          ],
          "parcoords": [
           {
            "line": {
             "colorbar": {
              "outlinewidth": 0,
              "ticks": ""
             }
            },
            "type": "parcoords"
           }
          ],
          "pie": [
           {
            "automargin": true,
            "type": "pie"
           }
          ],
          "scatter": [
           {
            "fillpattern": {
             "fillmode": "overlay",
             "size": 10,
             "solidity": 0.2
            },
            "type": "scatter"
           }
          ],
          "scatter3d": [
           {
            "line": {
             "colorbar": {
              "outlinewidth": 0,
              "ticks": ""
             }
            },
            "marker": {
             "colorbar": {
              "outlinewidth": 0,
              "ticks": ""
             }
            },
            "type": "scatter3d"
           }
          ],
          "scattercarpet": [
           {
            "marker": {
             "colorbar": {
              "outlinewidth": 0,
              "ticks": ""
             }
            },
            "type": "scattercarpet"
           }
          ],
          "scattergeo": [
           {
            "marker": {
             "colorbar": {
              "outlinewidth": 0,
              "ticks": ""
             }
            },
            "type": "scattergeo"
           }
          ],
          "scattergl": [
           {
            "marker": {
             "colorbar": {
              "outlinewidth": 0,
              "ticks": ""
             }
            },
            "type": "scattergl"
           }
          ],
          "scattermap": [
           {
            "marker": {
             "colorbar": {
              "outlinewidth": 0,
              "ticks": ""
             }
            },
            "type": "scattermap"
           }
          ],
          "scattermapbox": [
           {
            "marker": {
             "colorbar": {
              "outlinewidth": 0,
              "ticks": ""
             }
            },
            "type": "scattermapbox"
           }
          ],
          "scatterpolar": [
           {
            "marker": {
             "colorbar": {
              "outlinewidth": 0,
              "ticks": ""
             }
            },
            "type": "scatterpolar"
           }
          ],
          "scatterpolargl": [
           {
            "marker": {
             "colorbar": {
              "outlinewidth": 0,
              "ticks": ""
             }
            },
            "type": "scatterpolargl"
           }
          ],
          "scatterternary": [
           {
            "marker": {
             "colorbar": {
              "outlinewidth": 0,
              "ticks": ""
             }
            },
            "type": "scatterternary"
           }
          ],
          "surface": [
           {
            "colorbar": {
             "outlinewidth": 0,
             "ticks": ""
            },
            "colorscale": [
             [
              0,
              "#0d0887"
             ],
             [
              0.1111111111111111,
              "#46039f"
             ],
             [
              0.2222222222222222,
              "#7201a8"
             ],
             [
              0.3333333333333333,
              "#9c179e"
             ],
             [
              0.4444444444444444,
              "#bd3786"
             ],
             [
              0.5555555555555556,
              "#d8576b"
             ],
             [
              0.6666666666666666,
              "#ed7953"
             ],
             [
              0.7777777777777778,
              "#fb9f3a"
             ],
             [
              0.8888888888888888,
              "#fdca26"
             ],
             [
              1,
              "#f0f921"
             ]
            ],
            "type": "surface"
           }
          ],
          "table": [
           {
            "cells": {
             "fill": {
              "color": "#EBF0F8"
             },
             "line": {
              "color": "white"
             }
            },
            "header": {
             "fill": {
              "color": "#C8D4E3"
             },
             "line": {
              "color": "white"
             }
            },
            "type": "table"
           }
          ]
         },
         "layout": {
          "annotationdefaults": {
           "arrowcolor": "#2a3f5f",
           "arrowhead": 0,
           "arrowwidth": 1
          },
          "autotypenumbers": "strict",
          "coloraxis": {
           "colorbar": {
            "outlinewidth": 0,
            "ticks": ""
           }
          },
          "colorscale": {
           "diverging": [
            [
             0,
             "#8e0152"
            ],
            [
             0.1,
             "#c51b7d"
            ],
            [
             0.2,
             "#de77ae"
            ],
            [
             0.3,
             "#f1b6da"
            ],
            [
             0.4,
             "#fde0ef"
            ],
            [
             0.5,
             "#f7f7f7"
            ],
            [
             0.6,
             "#e6f5d0"
            ],
            [
             0.7,
             "#b8e186"
            ],
            [
             0.8,
             "#7fbc41"
            ],
            [
             0.9,
             "#4d9221"
            ],
            [
             1,
             "#276419"
            ]
           ],
           "sequential": [
            [
             0,
             "#0d0887"
            ],
            [
             0.1111111111111111,
             "#46039f"
            ],
            [
             0.2222222222222222,
             "#7201a8"
            ],
            [
             0.3333333333333333,
             "#9c179e"
            ],
            [
             0.4444444444444444,
             "#bd3786"
            ],
            [
             0.5555555555555556,
             "#d8576b"
            ],
            [
             0.6666666666666666,
             "#ed7953"
            ],
            [
             0.7777777777777778,
             "#fb9f3a"
            ],
            [
             0.8888888888888888,
             "#fdca26"
            ],
            [
             1,
             "#f0f921"
            ]
           ],
           "sequentialminus": [
            [
             0,
             "#0d0887"
            ],
            [
             0.1111111111111111,
             "#46039f"
            ],
            [
             0.2222222222222222,
             "#7201a8"
            ],
            [
             0.3333333333333333,
             "#9c179e"
            ],
            [
             0.4444444444444444,
             "#bd3786"
            ],
            [
             0.5555555555555556,
             "#d8576b"
            ],
            [
             0.6666666666666666,
             "#ed7953"
            ],
            [
             0.7777777777777778,
             "#fb9f3a"
            ],
            [
             0.8888888888888888,
             "#fdca26"
            ],
            [
             1,
             "#f0f921"
            ]
           ]
          },
          "colorway": [
           "#636efa",
           "#EF553B",
           "#00cc96",
           "#ab63fa",
           "#FFA15A",
           "#19d3f3",
           "#FF6692",
           "#B6E880",
           "#FF97FF",
           "#FECB52"
          ],
          "font": {
           "color": "#2a3f5f"
          },
          "geo": {
           "bgcolor": "white",
           "lakecolor": "white",
           "landcolor": "#E5ECF6",
           "showlakes": true,
           "showland": true,
           "subunitcolor": "white"
          },
          "hoverlabel": {
           "align": "left"
          },
          "hovermode": "closest",
          "mapbox": {
           "style": "light"
          },
          "paper_bgcolor": "white",
          "plot_bgcolor": "#E5ECF6",
          "polar": {
           "angularaxis": {
            "gridcolor": "white",
            "linecolor": "white",
            "ticks": ""
           },
           "bgcolor": "#E5ECF6",
           "radialaxis": {
            "gridcolor": "white",
            "linecolor": "white",
            "ticks": ""
           }
          },
          "scene": {
           "xaxis": {
            "backgroundcolor": "#E5ECF6",
            "gridcolor": "white",
            "gridwidth": 2,
            "linecolor": "white",
            "showbackground": true,
            "ticks": "",
            "zerolinecolor": "white"
           },
           "yaxis": {
            "backgroundcolor": "#E5ECF6",
            "gridcolor": "white",
            "gridwidth": 2,
            "linecolor": "white",
            "showbackground": true,
            "ticks": "",
            "zerolinecolor": "white"
           },
           "zaxis": {
            "backgroundcolor": "#E5ECF6",
            "gridcolor": "white",
            "gridwidth": 2,
            "linecolor": "white",
            "showbackground": true,
            "ticks": "",
            "zerolinecolor": "white"
           }
          },
          "shapedefaults": {
           "line": {
            "color": "#2a3f5f"
           }
          },
          "ternary": {
           "aaxis": {
            "gridcolor": "white",
            "linecolor": "white",
            "ticks": ""
           },
           "baxis": {
            "gridcolor": "white",
            "linecolor": "white",
            "ticks": ""
           },
           "bgcolor": "#E5ECF6",
           "caxis": {
            "gridcolor": "white",
            "linecolor": "white",
            "ticks": ""
           }
          },
          "title": {
           "x": 0.05
          },
          "xaxis": {
           "automargin": true,
           "gridcolor": "white",
           "linecolor": "white",
           "ticks": "",
           "title": {
            "standoff": 15
           },
           "zerolinecolor": "white",
           "zerolinewidth": 2
          },
          "yaxis": {
           "automargin": true,
           "gridcolor": "white",
           "linecolor": "white",
           "ticks": "",
           "title": {
            "standoff": 15
           },
           "zerolinecolor": "white",
           "zerolinewidth": 2
          }
         }
        },
        "title": {
         "text": "Distribution of Sales"
        },
        "xaxis": {
         "title": {
          "text": "Sales"
         }
        },
        "yaxis": {
         "title": {
          "text": "Frequency"
         }
        }
       }
      }
     },
     "metadata": {},
     "output_type": "display_data"
    },
    {
     "data": {
      "application/vnd.plotly.v1+json": {
       "config": {
        "plotlyServerURL": "https://plot.ly"
       },
       "data": [
        {
         "colorscale": [
          [
           0,
           "rgb(103,0,31)"
          ],
          [
           0.1,
           "rgb(178,24,43)"
          ],
          [
           0.2,
           "rgb(214,96,77)"
          ],
          [
           0.3,
           "rgb(244,165,130)"
          ],
          [
           0.4,
           "rgb(253,219,199)"
          ],
          [
           0.5,
           "rgb(247,247,247)"
          ],
          [
           0.6,
           "rgb(209,229,240)"
          ],
          [
           0.7,
           "rgb(146,197,222)"
          ],
          [
           0.8,
           "rgb(67,147,195)"
          ],
          [
           0.9,
           "rgb(33,102,172)"
          ],
          [
           1,
           "rgb(5,48,97)"
          ]
         ],
         "type": "heatmap",
         "x": [
          "Customer_ID",
          "Age",
          "Income",
          "Spending_Score",
          "Credit_Score",
          "Loan_Amount",
          "Previous_Defaults",
          "Marketing_Spend",
          "Purchase_Frequency",
          "Sales",
          "Customer_Churn",
          "Defaulted"
         ],
         "y": [
          "Customer_ID",
          "Age",
          "Income",
          "Spending_Score",
          "Credit_Score",
          "Loan_Amount",
          "Previous_Defaults",
          "Marketing_Spend",
          "Purchase_Frequency",
          "Sales",
          "Customer_Churn",
          "Defaulted"
         ],
         "z": {
          "bdata": "AAAAAAAA8D/oq6+GwLmvP1az5cCRZ18/t0D8BM23kT/YpFhdDBiMv+lGvj10QKa/7pxoM+vtq79XJ8U4nUGiPxsnN+7NzoI/klKTg6BlsT96FhYGfSCXP7n7vK7gupM/6KuvhsC5rz8AAAAAAADwP1OrLIzdYqE/Bj6DNVZkjT8c2fAr1s+6P71GuDnZnZA/DbhfH6w3d7/iy9N+4henv/6xdStpAGM/d3vY/Jeqjr8nfkP0xVxwPzP5FVwjOoQ/VrPlwJFnXz9TqyyM3WKhPwAAAAAAAPA/gUaR24GTq79wNZZx4ICzP9ag3ynJeqm/wefZaDZRij/4Brpi98inv6DrXvBMKaW/uRc9mxsctz8Hv/9kotukv9saQ/YNbns/t0D8BM23kT8GPoM1VmSNP4FGkduBk6u/AAAAAAAA8D8lH/Eif9ioP9DNNxHSeJM/QmsAKMNorj88LRuvyEBhvw2Au134e3Y/nfrSrbyImL/9ITwBiB+jP3GfkOekEXw/2KRYXQwYjL8c2fAr1s+6P3A1lnHggLM/JR/xIn/YqD8AAAAAAADwPzymT83gfKE/dDx3l/SGk79qKimh1RahvxpwE4hRIao/3bTMyrnqdb8DnVTVghKRv/1ilfLd15E/6Ua+PXRApr+9Rrg52Z2QP9ag3ynJeqm/0M03EdJ4kz88pk/N4HyhPwAAAAAAAPA/CmGAasTunT/+ENW3Eiuov4YJEs0mVbC/ifF+idK0oL9BFVsAH4Wqvwkb9FWSOrW/7pxoM+vtq78NuF8frDd3v8Hn2Wg2UYo/QmsAKMNorj90PHeX9IaTvwphgGrE7p0/AAAAAAAA8D99BXpLebCSv6sUtdvLA7M/EfTEG+8Epj/zehLMXIWYP2loEPzPfKG/VyfFOJ1Boj/iy9N+4henv/gGumL3yKe/PC0br8hAYb9qKimh1Rahv/4Q1bcSK6i/fQV6S3mwkr8AAAAAAADwPzSXlCxksKG/uG6lHsFGpD+40KbIW7OpvyBnT1ZjKKW/Gyc37s3Ogj/+sXUraQBjP6DrXvBMKaW/DYC7Xfh7dj8acBOIUSGqP4YJEs0mVbC/qxS128sDsz80l5QsZLChvwAAAAAAAPA/LElVVjPujL8cQWRZ4culv2Q7/tH84KA/klKTg6BlsT93e9j8l6qOv7kXPZsbHLc/nfrSrbyImL/dtMzKuep1v4nxfonStKC/EfTEG+8Epj+4bqUewUakPyxJVVYz7oy/AAAAAAAA8D+1cibJqSGbP1HzpIw5YJi/ehYWBn0glz8nfkP0xVxwPwe//2Si26S//SE8AYgfoz8DnVTVghKRv0EVWwAfhaq/83oSzFyFmD+40KbIW7OpvxxBZFnhy6W/tXImyakhmz8AAAAAAADwP2Few5jlM60/ufu8ruC6kz8z+RVcIzqEP9saQ/YNbns/cZ+Q56QRfD/9YpXy3deRPwkb9FWSOrW/aWgQ/M98ob8gZ09WYyilv2Q7/tH84KA/UfOkjDlgmL9hXsOY5TOtPwAAAAAAAPA/",
          "dtype": "f8",
          "shape": "12, 12"
         },
         "zmax": 1,
         "zmin": -1
        }
       ],
       "layout": {
        "template": {
         "data": {
          "bar": [
           {
            "error_x": {
             "color": "#2a3f5f"
            },
            "error_y": {
             "color": "#2a3f5f"
            },
            "marker": {
             "line": {
              "color": "#E5ECF6",
              "width": 0.5
             },
             "pattern": {
              "fillmode": "overlay",
              "size": 10,
              "solidity": 0.2
             }
            },
            "type": "bar"
           }
          ],
          "barpolar": [
           {
            "marker": {
             "line": {
              "color": "#E5ECF6",
              "width": 0.5
             },
             "pattern": {
              "fillmode": "overlay",
              "size": 10,
              "solidity": 0.2
             }
            },
            "type": "barpolar"
           }
          ],
          "carpet": [
           {
            "aaxis": {
             "endlinecolor": "#2a3f5f",
             "gridcolor": "white",
             "linecolor": "white",
             "minorgridcolor": "white",
             "startlinecolor": "#2a3f5f"
            },
            "baxis": {
             "endlinecolor": "#2a3f5f",
             "gridcolor": "white",
             "linecolor": "white",
             "minorgridcolor": "white",
             "startlinecolor": "#2a3f5f"
            },
            "type": "carpet"
           }
          ],
          "choropleth": [
           {
            "colorbar": {
             "outlinewidth": 0,
             "ticks": ""
            },
            "type": "choropleth"
           }
          ],
          "contour": [
           {
            "colorbar": {
             "outlinewidth": 0,
             "ticks": ""
            },
            "colorscale": [
             [
              0,
              "#0d0887"
             ],
             [
              0.1111111111111111,
              "#46039f"
             ],
             [
              0.2222222222222222,
              "#7201a8"
             ],
             [
              0.3333333333333333,
              "#9c179e"
             ],
             [
              0.4444444444444444,
              "#bd3786"
             ],
             [
              0.5555555555555556,
              "#d8576b"
             ],
             [
              0.6666666666666666,
              "#ed7953"
             ],
             [
              0.7777777777777778,
              "#fb9f3a"
             ],
             [
              0.8888888888888888,
              "#fdca26"
             ],
             [
              1,
              "#f0f921"
             ]
            ],
            "type": "contour"
           }
          ],
          "contourcarpet": [
           {
            "colorbar": {
             "outlinewidth": 0,
             "ticks": ""
            },
            "type": "contourcarpet"
           }
          ],
          "heatmap": [
           {
            "colorbar": {
             "outlinewidth": 0,
             "ticks": ""
            },
            "colorscale": [
             [
              0,
              "#0d0887"
             ],
             [
              0.1111111111111111,
              "#46039f"
             ],
             [
              0.2222222222222222,
              "#7201a8"
             ],
             [
              0.3333333333333333,
              "#9c179e"
             ],
             [
              0.4444444444444444,
              "#bd3786"
             ],
             [
              0.5555555555555556,
              "#d8576b"
             ],
             [
              0.6666666666666666,
              "#ed7953"
             ],
             [
              0.7777777777777778,
              "#fb9f3a"
             ],
             [
              0.8888888888888888,
              "#fdca26"
             ],
             [
              1,
              "#f0f921"
             ]
            ],
            "type": "heatmap"
           }
          ],
          "histogram": [
           {
            "marker": {
             "pattern": {
              "fillmode": "overlay",
              "size": 10,
              "solidity": 0.2
             }
            },
            "type": "histogram"
           }
          ],
          "histogram2d": [
           {
            "colorbar": {
             "outlinewidth": 0,
             "ticks": ""
            },
            "colorscale": [
             [
              0,
              "#0d0887"
             ],
             [
              0.1111111111111111,
              "#46039f"
             ],
             [
              0.2222222222222222,
              "#7201a8"
             ],
             [
              0.3333333333333333,
              "#9c179e"
             ],
             [
              0.4444444444444444,
              "#bd3786"
             ],
             [
              0.5555555555555556,
              "#d8576b"
             ],
             [
              0.6666666666666666,
              "#ed7953"
             ],
             [
              0.7777777777777778,
              "#fb9f3a"
             ],
             [
              0.8888888888888888,
              "#fdca26"
             ],
             [
              1,
              "#f0f921"
             ]
            ],
            "type": "histogram2d"
           }
          ],
          "histogram2dcontour": [
           {
            "colorbar": {
             "outlinewidth": 0,
             "ticks": ""
            },
            "colorscale": [
             [
              0,
              "#0d0887"
             ],
             [
              0.1111111111111111,
              "#46039f"
             ],
             [
              0.2222222222222222,
              "#7201a8"
             ],
             [
              0.3333333333333333,
              "#9c179e"
             ],
             [
              0.4444444444444444,
              "#bd3786"
             ],
             [
              0.5555555555555556,
              "#d8576b"
             ],
             [
              0.6666666666666666,
              "#ed7953"
             ],
             [
              0.7777777777777778,
              "#fb9f3a"
             ],
             [
              0.8888888888888888,
              "#fdca26"
             ],
             [
              1,
              "#f0f921"
             ]
            ],
            "type": "histogram2dcontour"
           }
          ],
          "mesh3d": [
           {
            "colorbar": {
             "outlinewidth": 0,
             "ticks": ""
            },
            "type": "mesh3d"
           }
          ],
          "parcoords": [
           {
            "line": {
             "colorbar": {
              "outlinewidth": 0,
              "ticks": ""
             }
            },
            "type": "parcoords"
           }
          ],
          "pie": [
           {
            "automargin": true,
            "type": "pie"
           }
          ],
          "scatter": [
           {
            "fillpattern": {
             "fillmode": "overlay",
             "size": 10,
             "solidity": 0.2
            },
            "type": "scatter"
           }
          ],
          "scatter3d": [
           {
            "line": {
             "colorbar": {
              "outlinewidth": 0,
              "ticks": ""
             }
            },
            "marker": {
             "colorbar": {
              "outlinewidth": 0,
              "ticks": ""
             }
            },
            "type": "scatter3d"
           }
          ],
          "scattercarpet": [
           {
            "marker": {
             "colorbar": {
              "outlinewidth": 0,
              "ticks": ""
             }
            },
            "type": "scattercarpet"
           }
          ],
          "scattergeo": [
           {
            "marker": {
             "colorbar": {
              "outlinewidth": 0,
              "ticks": ""
             }
            },
            "type": "scattergeo"
           }
          ],
          "scattergl": [
           {
            "marker": {
             "colorbar": {
              "outlinewidth": 0,
              "ticks": ""
             }
            },
            "type": "scattergl"
           }
          ],
          "scattermap": [
           {
            "marker": {
             "colorbar": {
              "outlinewidth": 0,
              "ticks": ""
             }
            },
            "type": "scattermap"
           }
          ],
          "scattermapbox": [
           {
            "marker": {
             "colorbar": {
              "outlinewidth": 0,
              "ticks": ""
             }
            },
            "type": "scattermapbox"
           }
          ],
          "scatterpolar": [
           {
            "marker": {
             "colorbar": {
              "outlinewidth": 0,
              "ticks": ""
             }
            },
            "type": "scatterpolar"
           }
          ],
          "scatterpolargl": [
           {
            "marker": {
             "colorbar": {
              "outlinewidth": 0,
              "ticks": ""
             }
            },
            "type": "scatterpolargl"
           }
          ],
          "scatterternary": [
           {
            "marker": {
             "colorbar": {
              "outlinewidth": 0,
              "ticks": ""
             }
            },
            "type": "scatterternary"
           }
          ],
          "surface": [
           {
            "colorbar": {
             "outlinewidth": 0,
             "ticks": ""
            },
            "colorscale": [
             [
              0,
              "#0d0887"
             ],
             [
              0.1111111111111111,
              "#46039f"
             ],
             [
              0.2222222222222222,
              "#7201a8"
             ],
             [
              0.3333333333333333,
              "#9c179e"
             ],
             [
              0.4444444444444444,
              "#bd3786"
             ],
             [
              0.5555555555555556,
              "#d8576b"
             ],
             [
              0.6666666666666666,
              "#ed7953"
             ],
             [
              0.7777777777777778,
              "#fb9f3a"
             ],
             [
              0.8888888888888888,
              "#fdca26"
             ],
             [
              1,
              "#f0f921"
             ]
            ],
            "type": "surface"
           }
          ],
          "table": [
           {
            "cells": {
             "fill": {
              "color": "#EBF0F8"
             },
             "line": {
              "color": "white"
             }
            },
            "header": {
             "fill": {
              "color": "#C8D4E3"
             },
             "line": {
              "color": "white"
             }
            },
            "type": "table"
           }
          ]
         },
         "layout": {
          "annotationdefaults": {
           "arrowcolor": "#2a3f5f",
           "arrowhead": 0,
           "arrowwidth": 1
          },
          "autotypenumbers": "strict",
          "coloraxis": {
           "colorbar": {
            "outlinewidth": 0,
            "ticks": ""
           }
          },
          "colorscale": {
           "diverging": [
            [
             0,
             "#8e0152"
            ],
            [
             0.1,
             "#c51b7d"
            ],
            [
             0.2,
             "#de77ae"
            ],
            [
             0.3,
             "#f1b6da"
            ],
            [
             0.4,
             "#fde0ef"
            ],
            [
             0.5,
             "#f7f7f7"
            ],
            [
             0.6,
             "#e6f5d0"
            ],
            [
             0.7,
             "#b8e186"
            ],
            [
             0.8,
             "#7fbc41"
            ],
            [
             0.9,
             "#4d9221"
            ],
            [
             1,
             "#276419"
            ]
           ],
           "sequential": [
            [
             0,
             "#0d0887"
            ],
            [
             0.1111111111111111,
             "#46039f"
            ],
            [
             0.2222222222222222,
             "#7201a8"
            ],
            [
             0.3333333333333333,
             "#9c179e"
            ],
            [
             0.4444444444444444,
             "#bd3786"
            ],
            [
             0.5555555555555556,
             "#d8576b"
            ],
            [
             0.6666666666666666,
             "#ed7953"
            ],
            [
             0.7777777777777778,
             "#fb9f3a"
            ],
            [
             0.8888888888888888,
             "#fdca26"
            ],
            [
             1,
             "#f0f921"
            ]
           ],
           "sequentialminus": [
            [
             0,
             "#0d0887"
            ],
            [
             0.1111111111111111,
             "#46039f"
            ],
            [
             0.2222222222222222,
             "#7201a8"
            ],
            [
             0.3333333333333333,
             "#9c179e"
            ],
            [
             0.4444444444444444,
             "#bd3786"
            ],
            [
             0.5555555555555556,
             "#d8576b"
            ],
            [
             0.6666666666666666,
             "#ed7953"
            ],
            [
             0.7777777777777778,
             "#fb9f3a"
            ],
            [
             0.8888888888888888,
             "#fdca26"
            ],
            [
             1,
             "#f0f921"
            ]
           ]
          },
          "colorway": [
           "#636efa",
           "#EF553B",
           "#00cc96",
           "#ab63fa",
           "#FFA15A",
           "#19d3f3",
           "#FF6692",
           "#B6E880",
           "#FF97FF",
           "#FECB52"
          ],
          "font": {
           "color": "#2a3f5f"
          },
          "geo": {
           "bgcolor": "white",
           "lakecolor": "white",
           "landcolor": "#E5ECF6",
           "showlakes": true,
           "showland": true,
           "subunitcolor": "white"
          },
          "hoverlabel": {
           "align": "left"
          },
          "hovermode": "closest",
          "mapbox": {
           "style": "light"
          },
          "paper_bgcolor": "white",
          "plot_bgcolor": "#E5ECF6",
          "polar": {
           "angularaxis": {
            "gridcolor": "white",
            "linecolor": "white",
            "ticks": ""
           },
           "bgcolor": "#E5ECF6",
           "radialaxis": {
            "gridcolor": "white",
            "linecolor": "white",
            "ticks": ""
           }
          },
          "scene": {
           "xaxis": {
            "backgroundcolor": "#E5ECF6",
            "gridcolor": "white",
            "gridwidth": 2,
            "linecolor": "white",
            "showbackground": true,
            "ticks": "",
            "zerolinecolor": "white"
           },
           "yaxis": {
            "backgroundcolor": "#E5ECF6",
            "gridcolor": "white",
            "gridwidth": 2,
            "linecolor": "white",
            "showbackground": true,
            "ticks": "",
            "zerolinecolor": "white"
           },
           "zaxis": {
            "backgroundcolor": "#E5ECF6",
            "gridcolor": "white",
            "gridwidth": 2,
            "linecolor": "white",
            "showbackground": true,
            "ticks": "",
            "zerolinecolor": "white"
           }
          },
          "shapedefaults": {
           "line": {
            "color": "#2a3f5f"
           }
          },
          "ternary": {
           "aaxis": {
            "gridcolor": "white",
            "linecolor": "white",
            "ticks": ""
           },
           "baxis": {
            "gridcolor": "white",
            "linecolor": "white",
            "ticks": ""
           },
           "bgcolor": "#E5ECF6",
           "caxis": {
            "gridcolor": "white",
            "linecolor": "white",
            "ticks": ""
           }
          },
          "title": {
           "x": 0.05
          },
          "xaxis": {
           "automargin": true,
           "gridcolor": "white",
           "linecolor": "white",
           "ticks": "",
           "title": {
            "standoff": 15
           },
           "zerolinecolor": "white",
           "zerolinewidth": 2
          },
          "yaxis": {
           "automargin": true,
           "gridcolor": "white",
           "linecolor": "white",
           "ticks": "",
           "title": {
            "standoff": 15
           },
           "zerolinecolor": "white",
           "zerolinewidth": 2
          }
         }
        },
        "title": {
         "text": "Correlation Matrix (Numeric Features)"
        }
       }
      }
     },
     "metadata": {},
     "output_type": "display_data"
    },
    {
     "name": "stdout",
     "output_type": "stream",
     "text": [
      "\n",
      "Correlation of features with Sales:\n",
      "Sales                 1.000000\n",
      "Income                0.090273\n",
      "Customer_ID           0.067957\n",
      "Previous_Defaults     0.043006\n",
      "Marketing_Spend       0.039602\n",
      "Customer_Churn        0.026496\n",
      "Credit_Score         -0.005351\n",
      "Purchase_Frequency   -0.014126\n",
      "Age                  -0.014974\n",
      "Defaulted            -0.023805\n",
      "Spending_Score       -0.023959\n",
      "Loan_Amount          -0.032630\n",
      "Name: Sales, dtype: float64\n",
      "\n",
      "Categorical columns: ['Gender', 'Seasonality']\n",
      "\n",
      "Value counts for Gender:\n",
      "Gender\n",
      "Male      262\n",
      "Female    238\n",
      "Name: count, dtype: int64\n",
      "\n",
      "Value counts for Seasonality:\n",
      "Seasonality\n",
      "Medium    169\n",
      "High      168\n",
      "Low       163\n",
      "Name: count, dtype: int64\n",
      "\n",
      "Numeric column ranges:\n",
      "Customer_ID: min=1, max=500\n",
      "Age: min=18, max=69\n",
      "Income: min=20055.0, max=149922.0\n",
      "Spending_Score: min=1, max=99\n",
      "Credit_Score: min=300.0, max=848.0\n",
      "Loan_Amount: min=5163.0, max=49936.0\n",
      "Previous_Defaults: min=0, max=2\n",
      "Marketing_Spend: min=1024, max=19990\n",
      "Purchase_Frequency: min=1, max=29\n",
      "Sales: min=5203, max=99835\n",
      "Customer_Churn: min=0, max=1\n",
      "Defaulted: min=0, max=1\n",
      "\n",
      "Leakage candidate correlations with Sales:\n",
      "                Customer_Churn  Defaulted     Sales\n",
      "Customer_Churn        1.000000   0.057037  0.026496\n",
      "Defaulted             0.057037   1.000000 -0.023805\n",
      "Sales                 0.026496  -0.023805  1.000000\n"
     ]
    }
   ],
   "source": [
    "import pandas as pd\n",
    "import plotly.graph_objects as go\n",
    "\n",
    "# === 1. Target distribution (Sales) ===\n",
    "print(df[\"Sales\"].describe())\n",
    "print(\"Skew:\", df[\"Sales\"].skew())\n",
    "print(\"Kurtosis:\", df[\"Sales\"].kurt())\n",
    "print(\"Correlation with Sales:\\n\", df.corr(numeric_only=True)[\"Sales\"].sort_values(ascending=False))\n",
    "\n",
    "# Interactive histogram\n",
    "fig = go.Figure(data=[go.Histogram(x=df[\"Sales\"], nbinsx=30)])\n",
    "fig.update_layout(title=\"Distribution of Sales\", xaxis_title=\"Sales\", yaxis_title=\"Frequency\")\n",
    "fig.show()\n",
    "\n",
    "# === 2. Feature correlations with target ===\n",
    "numeric_cols = df.select_dtypes(include=[\"int64\", \"float64\"]).columns\n",
    "corr = df[numeric_cols].corr()\n",
    "\n",
    "# Heatmap (no xarray needed)\n",
    "fig = go.Figure(data=go.Heatmap(\n",
    "    z=corr.values,\n",
    "    x=corr.columns,\n",
    "    y=corr.columns,\n",
    "    colorscale=\"RdBu\",\n",
    "    zmin=-1, zmax=1\n",
    "))\n",
    "fig.update_layout(title=\"Correlation Matrix (Numeric Features)\")\n",
    "fig.show()\n",
    "\n",
    "print(\"\\nCorrelation of features with Sales:\")\n",
    "print(corr[\"Sales\"].sort_values(ascending=False))\n",
    "\n",
    "# === 3. Check categorical variables ===\n",
    "categorical_cols = df.select_dtypes(include=[\"object\"]).columns\n",
    "print(\"\\nCategorical columns:\", list(categorical_cols))\n",
    "\n",
    "for col in categorical_cols:\n",
    "    print(f\"\\nValue counts for {col}:\")\n",
    "    print(df[col].value_counts())\n",
    "\n",
    "# === 4. Check numeric scales ===\n",
    "print(\"\\nNumeric column ranges:\")\n",
    "for col in numeric_cols:\n",
    "    print(f\"{col}: min={df[col].min()}, max={df[col].max()}\")\n",
    "\n",
    "# === 5. Check potential leakage columns ===\n",
    "leakage_candidates = [\"Customer_Churn\", \"Defaulted\"]\n",
    "valid_cols = [c for c in leakage_candidates if c in df.columns]\n",
    "if valid_cols:\n",
    "    print(\"\\nLeakage candidate correlations with Sales:\")\n",
    "    print(df[valid_cols + [\"Sales\"]].corr())\n",
    "else:\n",
    "    print(\"\\nNo leakage candidate columns found in dataset.\")\n"
   ]
  },
  {
   "cell_type": "markdown",
   "id": "b2d49dad",
   "metadata": {
    "id": "783c2d05"
   },
   "source": [
    "## regression"
   ]
  },
  {
   "cell_type": "code",
   "execution_count": 8,
   "id": "8076b228",
   "metadata": {
    "colab": {
     "base_uri": "https://localhost:8080/",
     "height": 206
    },
    "id": "8076b228",
    "outputId": "4b15caee-b5e4-4e8d-92df-a29726ec0431"
   },
   "outputs": [
    {
     "data": {
      "application/vnd.google.colaboratory.intrinsic+json": {
       "summary": "{\n  \"name\": \"df\",\n  \"rows\": 500,\n  \"fields\": [\n    {\n      \"column\": \"Customer_ID\",\n      \"properties\": {\n        \"dtype\": \"number\",\n        \"std\": 144,\n        \"min\": 1,\n        \"max\": 500,\n        \"num_unique_values\": 500,\n        \"samples\": [\n          362,\n          74,\n          375\n        ],\n        \"semantic_type\": \"\",\n        \"description\": \"\"\n      }\n    },\n    {\n      \"column\": \"Age\",\n      \"properties\": {\n        \"dtype\": \"number\",\n        \"std\": 15,\n        \"min\": 18,\n        \"max\": 69,\n        \"num_unique_values\": 52,\n        \"samples\": [\n          50,\n          51,\n          18\n        ],\n        \"semantic_type\": \"\",\n        \"description\": \"\"\n      }\n    },\n    {\n      \"column\": \"Gender\",\n      \"properties\": {\n        \"dtype\": \"category\",\n        \"num_unique_values\": 2,\n        \"samples\": [\n          \"Male\",\n          \"Female\"\n        ],\n        \"semantic_type\": \"\",\n        \"description\": \"\"\n      }\n    },\n    {\n      \"column\": \"Income\",\n      \"properties\": {\n        \"dtype\": \"number\",\n        \"std\": 38525.83090921329,\n        \"min\": 20055.0,\n        \"max\": 149922.0,\n        \"num_unique_values\": 484,\n        \"samples\": [\n          129777.0,\n          117945.0\n        ],\n        \"semantic_type\": \"\",\n        \"description\": \"\"\n      }\n    },\n    {\n      \"column\": \"Spending_Score\",\n      \"properties\": {\n        \"dtype\": \"number\",\n        \"std\": 29,\n        \"min\": 1,\n        \"max\": 99,\n        \"num_unique_values\": 99,\n        \"samples\": [\n          46,\n          93\n        ],\n        \"semantic_type\": \"\",\n        \"description\": \"\"\n      }\n    },\n    {\n      \"column\": \"Credit_Score\",\n      \"properties\": {\n        \"dtype\": \"number\",\n        \"std\": 151.13451990267617,\n        \"min\": 300.0,\n        \"max\": 848.0,\n        \"num_unique_values\": 351,\n        \"samples\": [\n          386.0,\n          508.0\n        ],\n        \"semantic_type\": \"\",\n        \"description\": \"\"\n      }\n    },\n    {\n      \"column\": \"Loan_Amount\",\n      \"properties\": {\n        \"dtype\": \"number\",\n        \"std\": 11943.615612374717,\n        \"min\": 5163.0,\n        \"max\": 49936.0,\n        \"num_unique_values\": 484,\n        \"samples\": [\n          11256.0,\n          42051.0\n        ],\n        \"semantic_type\": \"\",\n        \"description\": \"\"\n      }\n    },\n    {\n      \"column\": \"Previous_Defaults\",\n      \"properties\": {\n        \"dtype\": \"number\",\n        \"std\": 0,\n        \"min\": 0,\n        \"max\": 2,\n        \"num_unique_values\": 3,\n        \"samples\": [\n          1,\n          2\n        ],\n        \"semantic_type\": \"\",\n        \"description\": \"\"\n      }\n    },\n    {\n      \"column\": \"Marketing_Spend\",\n      \"properties\": {\n        \"dtype\": \"number\",\n        \"std\": 5508,\n        \"min\": 1024,\n        \"max\": 19990,\n        \"num_unique_values\": 492,\n        \"samples\": [\n          12246,\n          17743\n        ],\n        \"semantic_type\": \"\",\n        \"description\": \"\"\n      }\n    },\n    {\n      \"column\": \"Purchase_Frequency\",\n      \"properties\": {\n        \"dtype\": \"number\",\n        \"std\": 8,\n        \"min\": 1,\n        \"max\": 29,\n        \"num_unique_values\": 29,\n        \"samples\": [\n          20,\n          26\n        ],\n        \"semantic_type\": \"\",\n        \"description\": \"\"\n      }\n    },\n    {\n      \"column\": \"Seasonality\",\n      \"properties\": {\n        \"dtype\": \"category\",\n        \"num_unique_values\": 3,\n        \"samples\": [\n          \"Low\",\n          \"Medium\"\n        ],\n        \"semantic_type\": \"\",\n        \"description\": \"\"\n      }\n    },\n    {\n      \"column\": \"Sales\",\n      \"properties\": {\n        \"dtype\": \"number\",\n        \"std\": 27263,\n        \"min\": 5203,\n        \"max\": 99835,\n        \"num_unique_values\": 499,\n        \"samples\": [\n          30068,\n          41607\n        ],\n        \"semantic_type\": \"\",\n        \"description\": \"\"\n      }\n    }\n  ]\n}",
       "type": "dataframe",
       "variable_name": "df"
      },
      "text/html": [
       "\n",
       "  <div id=\"df-89a5aed7-d268-4ee1-8f8d-c2328bc23da4\" class=\"colab-df-container\">\n",
       "    <div>\n",
       "<style scoped>\n",
       "    .dataframe tbody tr th:only-of-type {\n",
       "        vertical-align: middle;\n",
       "    }\n",
       "\n",
       "    .dataframe tbody tr th {\n",
       "        vertical-align: top;\n",
       "    }\n",
       "\n",
       "    .dataframe thead th {\n",
       "        text-align: right;\n",
       "    }\n",
       "</style>\n",
       "<table border=\"1\" class=\"dataframe\">\n",
       "  <thead>\n",
       "    <tr style=\"text-align: right;\">\n",
       "      <th></th>\n",
       "      <th>Customer_ID</th>\n",
       "      <th>Age</th>\n",
       "      <th>Gender</th>\n",
       "      <th>Income</th>\n",
       "      <th>Spending_Score</th>\n",
       "      <th>Credit_Score</th>\n",
       "      <th>Loan_Amount</th>\n",
       "      <th>Previous_Defaults</th>\n",
       "      <th>Marketing_Spend</th>\n",
       "      <th>Purchase_Frequency</th>\n",
       "      <th>Seasonality</th>\n",
       "      <th>Sales</th>\n",
       "    </tr>\n",
       "  </thead>\n",
       "  <tbody>\n",
       "    <tr>\n",
       "      <th>0</th>\n",
       "      <td>1</td>\n",
       "      <td>56</td>\n",
       "      <td>Female</td>\n",
       "      <td>142418.0</td>\n",
       "      <td>7</td>\n",
       "      <td>391.0</td>\n",
       "      <td>8083.0</td>\n",
       "      <td>1</td>\n",
       "      <td>15376</td>\n",
       "      <td>3</td>\n",
       "      <td>Low</td>\n",
       "      <td>32526</td>\n",
       "    </tr>\n",
       "    <tr>\n",
       "      <th>1</th>\n",
       "      <td>2</td>\n",
       "      <td>69</td>\n",
       "      <td>Male</td>\n",
       "      <td>63088.0</td>\n",
       "      <td>82</td>\n",
       "      <td>652.0</td>\n",
       "      <td>34328.0</td>\n",
       "      <td>2</td>\n",
       "      <td>6889</td>\n",
       "      <td>6</td>\n",
       "      <td>Low</td>\n",
       "      <td>78493</td>\n",
       "    </tr>\n",
       "    <tr>\n",
       "      <th>2</th>\n",
       "      <td>3</td>\n",
       "      <td>46</td>\n",
       "      <td>Male</td>\n",
       "      <td>136868.0</td>\n",
       "      <td>91</td>\n",
       "      <td>662.0</td>\n",
       "      <td>47891.0</td>\n",
       "      <td>2</td>\n",
       "      <td>6054</td>\n",
       "      <td>29</td>\n",
       "      <td>Medium</td>\n",
       "      <td>57198</td>\n",
       "    </tr>\n",
       "    <tr>\n",
       "      <th>3</th>\n",
       "      <td>4</td>\n",
       "      <td>32</td>\n",
       "      <td>Female</td>\n",
       "      <td>43596.2</td>\n",
       "      <td>34</td>\n",
       "      <td>644.0</td>\n",
       "      <td>25103.0</td>\n",
       "      <td>2</td>\n",
       "      <td>4868</td>\n",
       "      <td>8</td>\n",
       "      <td>Medium</td>\n",
       "      <td>48395</td>\n",
       "    </tr>\n",
       "    <tr>\n",
       "      <th>4</th>\n",
       "      <td>5</td>\n",
       "      <td>60</td>\n",
       "      <td>Male</td>\n",
       "      <td>59811.0</td>\n",
       "      <td>91</td>\n",
       "      <td>469.0</td>\n",
       "      <td>44891.0</td>\n",
       "      <td>1</td>\n",
       "      <td>17585</td>\n",
       "      <td>12</td>\n",
       "      <td>High</td>\n",
       "      <td>29031</td>\n",
       "    </tr>\n",
       "  </tbody>\n",
       "</table>\n",
       "</div>\n",
       "    <div class=\"colab-df-buttons\">\n",
       "\n",
       "  <div class=\"colab-df-container\">\n",
       "    <button class=\"colab-df-convert\" onclick=\"convertToInteractive('df-89a5aed7-d268-4ee1-8f8d-c2328bc23da4')\"\n",
       "            title=\"Convert this dataframe to an interactive table.\"\n",
       "            style=\"display:none;\">\n",
       "\n",
       "  <svg xmlns=\"http://www.w3.org/2000/svg\" height=\"24px\" viewBox=\"0 -960 960 960\">\n",
       "    <path d=\"M120-120v-720h720v720H120Zm60-500h600v-160H180v160Zm220 220h160v-160H400v160Zm0 220h160v-160H400v160ZM180-400h160v-160H180v160Zm440 0h160v-160H620v160ZM180-180h160v-160H180v160Zm440 0h160v-160H620v160Z\"/>\n",
       "  </svg>\n",
       "    </button>\n",
       "\n",
       "  <style>\n",
       "    .colab-df-container {\n",
       "      display:flex;\n",
       "      gap: 12px;\n",
       "    }\n",
       "\n",
       "    .colab-df-convert {\n",
       "      background-color: #E8F0FE;\n",
       "      border: none;\n",
       "      border-radius: 50%;\n",
       "      cursor: pointer;\n",
       "      display: none;\n",
       "      fill: #1967D2;\n",
       "      height: 32px;\n",
       "      padding: 0 0 0 0;\n",
       "      width: 32px;\n",
       "    }\n",
       "\n",
       "    .colab-df-convert:hover {\n",
       "      background-color: #E2EBFA;\n",
       "      box-shadow: 0px 1px 2px rgba(60, 64, 67, 0.3), 0px 1px 3px 1px rgba(60, 64, 67, 0.15);\n",
       "      fill: #174EA6;\n",
       "    }\n",
       "\n",
       "    .colab-df-buttons div {\n",
       "      margin-bottom: 4px;\n",
       "    }\n",
       "\n",
       "    [theme=dark] .colab-df-convert {\n",
       "      background-color: #3B4455;\n",
       "      fill: #D2E3FC;\n",
       "    }\n",
       "\n",
       "    [theme=dark] .colab-df-convert:hover {\n",
       "      background-color: #434B5C;\n",
       "      box-shadow: 0px 1px 3px 1px rgba(0, 0, 0, 0.15);\n",
       "      filter: drop-shadow(0px 1px 2px rgba(0, 0, 0, 0.3));\n",
       "      fill: #FFFFFF;\n",
       "    }\n",
       "  </style>\n",
       "\n",
       "    <script>\n",
       "      const buttonEl =\n",
       "        document.querySelector('#df-89a5aed7-d268-4ee1-8f8d-c2328bc23da4 button.colab-df-convert');\n",
       "      buttonEl.style.display =\n",
       "        google.colab.kernel.accessAllowed ? 'block' : 'none';\n",
       "\n",
       "      async function convertToInteractive(key) {\n",
       "        const element = document.querySelector('#df-89a5aed7-d268-4ee1-8f8d-c2328bc23da4');\n",
       "        const dataTable =\n",
       "          await google.colab.kernel.invokeFunction('convertToInteractive',\n",
       "                                                    [key], {});\n",
       "        if (!dataTable) return;\n",
       "\n",
       "        const docLinkHtml = 'Like what you see? Visit the ' +\n",
       "          '<a target=\"_blank\" href=https://colab.research.google.com/notebooks/data_table.ipynb>data table notebook</a>'\n",
       "          + ' to learn more about interactive tables.';\n",
       "        element.innerHTML = '';\n",
       "        dataTable['output_type'] = 'display_data';\n",
       "        await google.colab.output.renderOutput(dataTable, element);\n",
       "        const docLink = document.createElement('div');\n",
       "        docLink.innerHTML = docLinkHtml;\n",
       "        element.appendChild(docLink);\n",
       "      }\n",
       "    </script>\n",
       "  </div>\n",
       "\n",
       "\n",
       "    <div id=\"df-a7f9821e-128e-4922-8988-c6d1ee3a389c\">\n",
       "      <button class=\"colab-df-quickchart\" onclick=\"quickchart('df-a7f9821e-128e-4922-8988-c6d1ee3a389c')\"\n",
       "                title=\"Suggest charts\"\n",
       "                style=\"display:none;\">\n",
       "\n",
       "<svg xmlns=\"http://www.w3.org/2000/svg\" height=\"24px\"viewBox=\"0 0 24 24\"\n",
       "     width=\"24px\">\n",
       "    <g>\n",
       "        <path d=\"M19 3H5c-1.1 0-2 .9-2 2v14c0 1.1.9 2 2 2h14c1.1 0 2-.9 2-2V5c0-1.1-.9-2-2-2zM9 17H7v-7h2v7zm4 0h-2V7h2v10zm4 0h-2v-4h2v4z\"/>\n",
       "    </g>\n",
       "</svg>\n",
       "      </button>\n",
       "\n",
       "<style>\n",
       "  .colab-df-quickchart {\n",
       "      --bg-color: #E8F0FE;\n",
       "      --fill-color: #1967D2;\n",
       "      --hover-bg-color: #E2EBFA;\n",
       "      --hover-fill-color: #174EA6;\n",
       "      --disabled-fill-color: #AAA;\n",
       "      --disabled-bg-color: #DDD;\n",
       "  }\n",
       "\n",
       "  [theme=dark] .colab-df-quickchart {\n",
       "      --bg-color: #3B4455;\n",
       "      --fill-color: #D2E3FC;\n",
       "      --hover-bg-color: #434B5C;\n",
       "      --hover-fill-color: #FFFFFF;\n",
       "      --disabled-bg-color: #3B4455;\n",
       "      --disabled-fill-color: #666;\n",
       "  }\n",
       "\n",
       "  .colab-df-quickchart {\n",
       "    background-color: var(--bg-color);\n",
       "    border: none;\n",
       "    border-radius: 50%;\n",
       "    cursor: pointer;\n",
       "    display: none;\n",
       "    fill: var(--fill-color);\n",
       "    height: 32px;\n",
       "    padding: 0;\n",
       "    width: 32px;\n",
       "  }\n",
       "\n",
       "  .colab-df-quickchart:hover {\n",
       "    background-color: var(--hover-bg-color);\n",
       "    box-shadow: 0 1px 2px rgba(60, 64, 67, 0.3), 0 1px 3px 1px rgba(60, 64, 67, 0.15);\n",
       "    fill: var(--button-hover-fill-color);\n",
       "  }\n",
       "\n",
       "  .colab-df-quickchart-complete:disabled,\n",
       "  .colab-df-quickchart-complete:disabled:hover {\n",
       "    background-color: var(--disabled-bg-color);\n",
       "    fill: var(--disabled-fill-color);\n",
       "    box-shadow: none;\n",
       "  }\n",
       "\n",
       "  .colab-df-spinner {\n",
       "    border: 2px solid var(--fill-color);\n",
       "    border-color: transparent;\n",
       "    border-bottom-color: var(--fill-color);\n",
       "    animation:\n",
       "      spin 1s steps(1) infinite;\n",
       "  }\n",
       "\n",
       "  @keyframes spin {\n",
       "    0% {\n",
       "      border-color: transparent;\n",
       "      border-bottom-color: var(--fill-color);\n",
       "      border-left-color: var(--fill-color);\n",
       "    }\n",
       "    20% {\n",
       "      border-color: transparent;\n",
       "      border-left-color: var(--fill-color);\n",
       "      border-top-color: var(--fill-color);\n",
       "    }\n",
       "    30% {\n",
       "      border-color: transparent;\n",
       "      border-left-color: var(--fill-color);\n",
       "      border-top-color: var(--fill-color);\n",
       "      border-right-color: var(--fill-color);\n",
       "    }\n",
       "    40% {\n",
       "      border-color: transparent;\n",
       "      border-right-color: var(--fill-color);\n",
       "      border-top-color: var(--fill-color);\n",
       "    }\n",
       "    60% {\n",
       "      border-color: transparent;\n",
       "      border-right-color: var(--fill-color);\n",
       "    }\n",
       "    80% {\n",
       "      border-color: transparent;\n",
       "      border-right-color: var(--fill-color);\n",
       "      border-bottom-color: var(--fill-color);\n",
       "    }\n",
       "    90% {\n",
       "      border-color: transparent;\n",
       "      border-bottom-color: var(--fill-color);\n",
       "    }\n",
       "  }\n",
       "</style>\n",
       "\n",
       "      <script>\n",
       "        async function quickchart(key) {\n",
       "          const quickchartButtonEl =\n",
       "            document.querySelector('#' + key + ' button');\n",
       "          quickchartButtonEl.disabled = true;  // To prevent multiple clicks.\n",
       "          quickchartButtonEl.classList.add('colab-df-spinner');\n",
       "          try {\n",
       "            const charts = await google.colab.kernel.invokeFunction(\n",
       "                'suggestCharts', [key], {});\n",
       "          } catch (error) {\n",
       "            console.error('Error during call to suggestCharts:', error);\n",
       "          }\n",
       "          quickchartButtonEl.classList.remove('colab-df-spinner');\n",
       "          quickchartButtonEl.classList.add('colab-df-quickchart-complete');\n",
       "        }\n",
       "        (() => {\n",
       "          let quickchartButtonEl =\n",
       "            document.querySelector('#df-a7f9821e-128e-4922-8988-c6d1ee3a389c button');\n",
       "          quickchartButtonEl.style.display =\n",
       "            google.colab.kernel.accessAllowed ? 'block' : 'none';\n",
       "        })();\n",
       "      </script>\n",
       "    </div>\n",
       "\n",
       "    </div>\n",
       "  </div>\n"
      ],
      "text/plain": [
       "   Customer_ID  Age  Gender    Income  Spending_Score  Credit_Score  \\\n",
       "0            1   56  Female  142418.0               7         391.0   \n",
       "1            2   69    Male   63088.0              82         652.0   \n",
       "2            3   46    Male  136868.0              91         662.0   \n",
       "3            4   32  Female   43596.2              34         644.0   \n",
       "4            5   60    Male   59811.0              91         469.0   \n",
       "\n",
       "   Loan_Amount  Previous_Defaults  Marketing_Spend  Purchase_Frequency  \\\n",
       "0       8083.0                  1            15376                   3   \n",
       "1      34328.0                  2             6889                   6   \n",
       "2      47891.0                  2             6054                  29   \n",
       "3      25103.0                  2             4868                   8   \n",
       "4      44891.0                  1            17585                  12   \n",
       "\n",
       "  Seasonality  Sales  \n",
       "0         Low  32526  \n",
       "1         Low  78493  \n",
       "2      Medium  57198  \n",
       "3      Medium  48395  \n",
       "4        High  29031  "
      ]
     },
     "execution_count": 8,
     "metadata": {},
     "output_type": "execute_result"
    }
   ],
   "source": [
    "import pandas as pd\n",
    "import numpy as np\n",
    "import matplotlib.pyplot as plt\n",
    "from sklearn.model_selection import train_test_split, GridSearchCV, learning_curve\n",
    "from sklearn.preprocessing import StandardScaler, OneHotEncoder\n",
    "from sklearn.compose import ColumnTransformer\n",
    "from sklearn.pipeline import Pipeline\n",
    "from sklearn.linear_model import LinearRegression, Ridge, Lasso\n",
    "from sklearn.ensemble import RandomForestRegressor, GradientBoostingRegressor\n",
    "from sklearn.metrics import mean_squared_error, mean_absolute_error, r2_score\n",
    "\n",
    "# Load dataset\n",
    "df = pd.read_csv(\"/content/processed_sales.csv\")\n",
    "\n",
    "# Drop leakage columns\n",
    "df = df.drop([\"Customer_Churn\", \"Defaulted\"], axis=1)\n",
    "\n",
    "df.head()\n"
   ]
  },
  {
   "cell_type": "code",
   "execution_count": 10,
   "id": "CkOVAaPp-E4L",
   "metadata": {
    "id": "CkOVAaPp-E4L"
   },
   "outputs": [],
   "source": [
    " #======================\n",
    "# 2. Feature Engineering\n",
    "# ======================\n",
    "\n",
    "# Ratios / Interactions\n",
    "df[\"Debt_to_Income\"] = df[\"Loan_Amount\"] / (df[\"Income\"] + 1)\n",
    "df[\"Engagement_Score\"] = df[\"Spending_Score\"] * df[\"Purchase_Frequency\"]\n",
    "\n",
    "# Log transformations for skewed features\n",
    "for col in [\"Income\", \"Loan_Amount\", \"Sales\"]:\n",
    "    df[col + \"_log\"] = np.log1p(df[col])\n",
    "\n",
    "# Age groups\n",
    "df[\"Age_Group\"] = pd.cut(df[\"Age\"],\n",
    "                         bins=[18, 30, 45, 60, 100],\n",
    "                         labels=[\"Young\", \"Adult\", \"Mid_Age\", \"Senior\"])\n",
    "\n",
    "# Credit score categories\n",
    "df[\"Credit_Category\"] = pd.cut(df[\"Credit_Score\"],\n",
    "                               bins=[300, 580, 670, 740, 800, 850],\n",
    "                               labels=[\"Poor\", \"Fair\", \"Good\", \"Very Good\", \"Excellent\"])\n"
   ]
  },
  {
   "cell_type": "code",
   "execution_count": 11,
   "id": "648ec80e",
   "metadata": {
    "id": "648ec80e"
   },
   "outputs": [],
   "source": [
    "# Define features & target\n",
    "X = df.drop([\"Sales\"], axis=1)\n",
    "y = df[\"Sales\"]\n",
    "\n",
    "# Train/Test split\n",
    "X_train, X_test, y_train, y_test = train_test_split(\n",
    "    X, y, test_size=0.2, random_state=42\n",
    ")\n"
   ]
  },
  {
   "cell_type": "code",
   "execution_count": 14,
   "id": "q4uH1rrD-d7F",
   "metadata": {
    "id": "q4uH1rrD-d7F"
   },
   "outputs": [],
   "source": [
    "from sklearn.impute import SimpleImputer\n",
    "\n",
    "# ======================\n",
    "# 4. Preprocessing\n",
    "# ======================\n",
    "numeric_features = X.select_dtypes(include=[np.number]).columns.tolist()\n",
    "categorical_features = X.select_dtypes(include=[\"object\", \"category\"]).columns.tolist()\n",
    "\n",
    "numeric_transformer = Pipeline(steps=[\n",
    "    (\"imputer\", SimpleImputer(strategy=\"median\")),\n",
    "    (\"scaler\", StandardScaler())\n",
    "])\n",
    "\n",
    "categorical_transformer = Pipeline(steps=[\n",
    "    (\"imputer\", SimpleImputer(strategy=\"most_frequent\")),\n",
    "    (\"encoder\", OneHotEncoder(handle_unknown=\"ignore\"))\n",
    "])\n",
    "\n",
    "preprocessor = ColumnTransformer(\n",
    "    transformers=[\n",
    "        (\"num\", numeric_transformer, numeric_features),\n",
    "        (\"cat\", categorical_transformer, categorical_features)\n",
    "    ]\n",
    ")"
   ]
  },
  {
   "cell_type": "code",
   "execution_count": 16,
   "id": "8c180396",
   "metadata": {
    "id": "8c180396"
   },
   "outputs": [],
   "source": [
    "# ======================\n",
    "# 5. Models + Hyperparameters\n",
    "# ======================\n",
    "models = {\n",
    "    \"LinearRegression\": (LinearRegression(), {}),\n",
    "    \"Ridge\": (Ridge(), {\"regressor__alpha\": [1, 10, 100]}),\n",
    "    \"Lasso\": (Lasso(), {\"regressor__alpha\": [0.1, 1, 10]}),\n",
    "    \"RandomForest\": (RandomForestRegressor(random_state=42),\n",
    "                     {\"regressor__n_estimators\": [100, 200],\n",
    "                      \"regressor__max_depth\": [3, 5, None]}),\n",
    "    \"GradientBoosting\": (GradientBoostingRegressor(random_state=42),\n",
    "                         {\"regressor__n_estimators\": [100, 200],\n",
    "                          \"regressor__learning_rate\": [0.05, 0.1],\n",
    "                          \"regressor__max_depth\": [3, 5]})\n",
    "}\n",
    "\n",
    "results = {}\n",
    "\n",
    "for name, (model, params) in models.items():\n",
    "    pipe = Pipeline([\n",
    "        (\"preprocessor\", preprocessor),\n",
    "        (\"regressor\", model)\n",
    "    ])\n",
    "\n",
    "    grid = GridSearchCV(pipe, param_grid=params,\n",
    "                        cv=5, scoring=\"neg_root_mean_squared_error\", n_jobs=-1)\n",
    "    grid.fit(X_train, y_train)\n",
    "\n",
    "    y_pred = grid.predict(X_test)\n",
    "\n",
    "    results[name] = {\n",
    "    \"best_params\": grid.best_params_,\n",
    "    \"rmse\": np.sqrt(mean_squared_error(y_test, y_pred)),\n",
    "    \"mae\": mean_absolute_error(y_test, y_pred),\n",
    "    \"r2\": r2_score(y_test, y_pred)\n",
    "}"
   ]
  },
  {
   "cell_type": "code",
   "execution_count": 17,
   "id": "7698f272",
   "metadata": {
    "colab": {
     "base_uri": "https://localhost:8080/"
    },
    "id": "7698f272",
    "outputId": "88170a5f-ed4b-4cda-df04-cd6523cc88ce"
   },
   "outputs": [
    {
     "name": "stdout",
     "output_type": "stream",
     "text": [
      "\n",
      "=== LinearRegression ===\n",
      "{'best_params': {}, 'rmse': np.float64(11381.618582438992), 'mae': 8781.836479261987, 'r2': 0.8426934349877844}\n",
      "\n",
      "=== Ridge ===\n",
      "{'best_params': {'regressor__alpha': 1}, 'rmse': np.float64(11341.73806235231), 'mae': 8781.9506928743, 'r2': 0.8437938894881947}\n",
      "\n",
      "=== Lasso ===\n",
      "{'best_params': {'regressor__alpha': 10}, 'rmse': np.float64(11327.06980822869), 'mae': 8755.285381575595, 'r2': 0.8441976705071715}\n",
      "\n",
      "=== RandomForest ===\n",
      "{'best_params': {'regressor__max_depth': None, 'regressor__n_estimators': 200}, 'rmse': np.float64(306.6860744217938), 'mae': 216.53495000000035, 'r2': 0.9998857840106968}\n",
      "\n",
      "=== GradientBoosting ===\n",
      "{'best_params': {'regressor__learning_rate': 0.05, 'regressor__max_depth': 3, 'regressor__n_estimators': 200}, 'rmse': np.float64(174.72475318718895), 'mae': 136.542955198919, 'r2': 0.9999629278593616}\n"
     ]
    }
   ],
   "source": [
    "# ======================\n",
    "# 6. Show Results\n",
    "# ======================\n",
    "for model, metrics in results.items():\n",
    "    print(f\"\\n=== {model} ===\")\n",
    "    print(metrics)"
   ]
  },
  {
   "cell_type": "code",
   "execution_count": 18,
   "id": "DrdBXHiZ-mu0",
   "metadata": {
    "colab": {
     "base_uri": "https://localhost:8080/",
     "height": 599
    },
    "id": "DrdBXHiZ-mu0",
    "outputId": "3997f674-d001-4271-e58b-33488fa95155"
   },
   "outputs": [
    {
     "name": "stdout",
     "output_type": "stream",
     "text": [
      "\n",
      "Best model based on RMSE: GradientBoosting\n"
     ]
    },
    {
     "data": {
      "image/png": "[encoded data removed]",
      "text/plain": [
       "<Figure size 800x600 with 1 Axes>"
      ]
     },
     "metadata": {},
     "output_type": "display_data"
    }
   ],
   "source": [
    "# ======================\n",
    "# 7. Learning Curve (best model)\n",
    "# ======================\n",
    "best_model_name = min(results, key=lambda m: results[m][\"rmse\"])\n",
    "print(f\"\\nBest model based on RMSE: {best_model_name}\")\n",
    "\n",
    "best_model = Pipeline([\n",
    "    (\"preprocessor\", preprocessor),\n",
    "    (\"regressor\", models[best_model_name][0].set_params(\n",
    "        **{k.replace(\"regressor__\", \"\"): v for k, v in results[best_model_name][\"best_params\"].items()}\n",
    "    ))\n",
    "])\n",
    "\n",
    "train_sizes, train_scores, test_scores = learning_curve(\n",
    "    best_model, X_train, y_train, cv=5,\n",
    "    scoring=\"neg_root_mean_squared_error\",\n",
    "    train_sizes=np.linspace(0.1, 1.0, 5),\n",
    "    n_jobs=-1\n",
    ")\n",
    "\n",
    "train_scores_mean = -train_scores.mean(axis=1)\n",
    "test_scores_mean = -test_scores.mean(axis=1)\n",
    "\n",
    "plt.figure(figsize=(8, 6))\n",
    "plt.plot(train_sizes, train_scores_mean, \"o-\", label=\"Training error\")\n",
    "plt.plot(train_sizes, test_scores_mean, \"o-\", label=\"Cross-validation error\")\n",
    "plt.xlabel(\"Training examples\")\n",
    "plt.ylabel(\"RMSE\")\n",
    "plt.title(f\"Learning Curve ({best_model_name})\")\n",
    "plt.legend()\n",
    "plt.show()"
   ]
  },
  {
   "cell_type": "code",
   "execution_count": 19,
   "id": "5423d555",
   "metadata": {
    "colab": {
     "base_uri": "https://localhost:8080/"
    },
    "id": "5423d555",
    "outputId": "31575d99-5f52-409c-9c11-0e72e0895c3a"
   },
   "outputs": [
    {
     "name": "stdout",
     "output_type": "stream",
     "text": [
      "\n",
      "=== Model Comparison ===\n",
      "                                                        best_params  \\\n",
      "LinearRegression                                                 {}   \n",
      "Ridge                                       {'regressor__alpha': 1}   \n",
      "Lasso                                      {'regressor__alpha': 10}   \n",
      "RandomForest      {'regressor__max_depth': None, 'regressor__n_e...   \n",
      "GradientBoosting  {'regressor__learning_rate': 0.05, 'regressor_...   \n",
      "\n",
      "                          rmse          mae        r2  \n",
      "LinearRegression  11381.618582  8781.836479  0.842693  \n",
      "Ridge             11341.738062  8781.950693  0.843794  \n",
      "Lasso             11327.069808  8755.285382  0.844198  \n",
      "RandomForest        306.686074    216.53495  0.999886  \n",
      "GradientBoosting    174.724753   136.542955  0.999963  \n"
     ]
    }
   ],
   "source": [
    "results_df = pd.DataFrame(results).T\n",
    "print(\"\\n=== Model Comparison ===\")\n",
    "print(results_df)\n"
   ]
  },
  {
   "cell_type": "markdown",
   "id": "56faaff6",
   "metadata": {
    "id": "8TxCPq77BLQS"
   },
   "source": [
    "## classfication"
   ]
  },
  {
   "cell_type": "code",
   "execution_count": 19,
   "id": "XGdd9u9qI2f6",
   "metadata": {
    "id": "XGdd9u9qI2f6"
   },
   "outputs": [],
   "source": [
    "import pandas as pd\n",
    "import numpy as np\n",
    "import matplotlib.pyplot as plt\n",
    "from sklearn.model_selection import train_test_split, GridSearchCV, learning_curve\n",
    "from sklearn.preprocessing import StandardScaler, OneHotEncoder\n",
    "from sklearn.compose import ColumnTransformer\n",
    "from sklearn.pipeline import Pipeline\n",
    "from sklearn.impute import SimpleImputer\n",
    "from sklearn.metrics import (\n",
    "    classification_report, roc_auc_score,\n",
    "    RocCurveDisplay, confusion_matrix, ConfusionMatrixDisplay\n",
    ")\n",
    "from sklearn.linear_model import LogisticRegression\n",
    "from sklearn.ensemble import RandomForestClassifier, GradientBoostingClassifier\n",
    "from imblearn.over_sampling import SMOTE"
   ]
  },
  {
   "cell_type": "code",
   "execution_count": 20,
   "id": "C3ddR2UfM6PD",
   "metadata": {
    "id": "C3ddR2UfM6PD"
   },
   "outputs": [],
   "source": [
    "# ======================\n",
    "# 1. Load dataset\n",
    "# ======================\n",
    "df = pd.read_csv(\"/content/processed_sales.csv\")\n",
    "\n",
    "# Target: Defaulted\n",
    "y = df[\"Defaulted\"]\n",
    "X = df.drop([\"Customer_Churn\", \"Defaulted\", \"Sales\"], axis=1)"
   ]
  },
  {
   "cell_type": "code",
   "execution_count": 21,
   "id": "wdZdUyT2NHB5",
   "metadata": {
    "id": "wdZdUyT2NHB5"
   },
   "outputs": [],
   "source": [
    "# ======================\n",
    "# 2. Feature Engineering\n",
    "# ======================\n",
    "# Original engineered features\n",
    "X[\"Debt_to_Income\"] = X[\"Loan_Amount\"] / (X[\"Income\"] + 1)\n",
    "X[\"Engagement_Score\"] = X[\"Spending_Score\"] * X[\"Purchase_Frequency\"]\n",
    "\n",
    "for col in [\"Income\", \"Loan_Amount\"]:\n",
    "    X[col + \"_log\"] = np.log1p(X[col])\n",
    "\n",
    "X[\"Age_Group\"] = pd.cut(X[\"Age\"], bins=[18, 30, 45, 60, 100],\n",
    "                        labels=[\"Young\", \"Adult\", \"Mid_Age\", \"Senior\"])\n",
    "X[\"Credit_Category\"] = pd.cut(X[\"Credit_Score\"],\n",
    "                              bins=[300, 580, 670, 740, 800, 850],\n",
    "                              labels=[\"Poor\", \"Fair\", \"Good\", \"Very Good\", \"Excellent\"])\n",
    "\n",
    "# ======================\n",
    "# 2b. New engineered features\n",
    "# ======================\n",
    "X[\"Debt_to_Credit\"] = X[\"Loan_Amount\"] / (X[\"Credit_Score\"] + 1)\n",
    "X[\"Income_per_Purchase\"] = X[\"Income\"] / (X[\"Purchase_Frequency\"] + 1)\n",
    "X[\"Spending_per_Loan\"] = X[\"Spending_Score\"] / (X[\"Loan_Amount\"] + 1)\n",
    "X[\"Previous_Defaults_Weighted\"] = X[\"Previous_Defaults\"] * X[\"Loan_Amount\"]\n",
    "X[\"Income_Spending_Interaction\"] = X[\"Income\"] * X[\"Spending_Score\"]"
   ]
  },
  {
   "cell_type": "code",
   "execution_count": 22,
   "id": "uDhu2ZQWNJCv",
   "metadata": {
    "id": "uDhu2ZQWNJCv"
   },
   "outputs": [],
   "source": [
    "# ======================\n",
    "# 3. Train/Test split\n",
    "# ======================\n",
    "X_train, X_test, y_train, y_test = train_test_split(\n",
    "    X, y, test_size=0.2, random_state=42, stratify=y\n",
    ")"
   ]
  },
  {
   "cell_type": "code",
   "execution_count": 23,
   "id": "rn5YD1uMNK_n",
   "metadata": {
    "id": "rn5YD1uMNK_n"
   },
   "outputs": [],
   "source": [
    "# ======================\n",
    "# 4. Preprocessing\n",
    "# ======================\n",
    "numeric_features = X.select_dtypes(include=[np.number]).columns.tolist()\n",
    "categorical_features = X.select_dtypes(include=[\"object\", \"category\"]).columns.tolist()\n",
    "\n",
    "numeric_transformer = Pipeline([\n",
    "    (\"imputer\", SimpleImputer(strategy=\"median\")),\n",
    "    (\"scaler\", StandardScaler())\n",
    "])\n",
    "\n",
    "categorical_transformer = Pipeline([\n",
    "    (\"imputer\", SimpleImputer(strategy=\"most_frequent\")),\n",
    "    (\"encoder\", OneHotEncoder(handle_unknown=\"ignore\"))\n",
    "])\n",
    "\n",
    "preprocessor = ColumnTransformer([\n",
    "    (\"num\", numeric_transformer, numeric_features),\n",
    "    (\"cat\", categorical_transformer, categorical_features)\n",
    "])"
   ]
  },
  {
   "cell_type": "code",
   "execution_count": 24,
   "id": "UR1DVTuAQJJA",
   "metadata": {
    "id": "UR1DVTuAQJJA"
   },
   "outputs": [],
   "source": [
    "# ======================\n",
    "# 5. Preprocess train/test for SMOTE\n",
    "# ======================\n",
    "X_train_preprocessed = preprocessor.fit_transform(X_train)\n",
    "X_test_preprocessed = preprocessor.transform(X_test)  # keep test untouched"
   ]
  },
  {
   "cell_type": "code",
   "execution_count": 25,
   "id": "cVKDm2_nSBF3",
   "metadata": {
    "colab": {
     "base_uri": "https://localhost:8080/"
    },
    "id": "cVKDm2_nSBF3",
    "outputId": "ecb4b37a-371e-499e-a7ba-51bca79bc714"
   },
   "outputs": [
    {
     "name": "stdout",
     "output_type": "stream",
     "text": [
      "Original training set class distribution:\n",
      " Defaulted\n",
      "0    324\n",
      "1     76\n",
      "Name: count, dtype: int64\n",
      "Resampled training set class distribution:\n",
      " Defaulted\n",
      "0    324\n",
      "1    324\n",
      "Name: count, dtype: int64\n"
     ]
    }
   ],
   "source": [
    "# ======================\n",
    "# 6. Apply SMOTE\n",
    "# ======================\n",
    "smote = SMOTE(random_state=42)\n",
    "X_train_res, y_train_res = smote.fit_resample(X_train_preprocessed, y_train)\n",
    "\n",
    "print(\"Original training set class distribution:\\n\", y_train.value_counts())\n",
    "print(\"Resampled training set class distribution:\\n\", y_train_res.value_counts())"
   ]
  },
  {
   "cell_type": "code",
   "execution_count": 26,
   "id": "pIsYqepRW1Xv",
   "metadata": {
    "colab": {
     "base_uri": "https://localhost:8080/"
    },
    "id": "pIsYqepRW1Xv",
    "outputId": "accc8b81-ab4c-46d4-818a-71bd71865fc3"
   },
   "outputs": [
    {
     "name": "stdout",
     "output_type": "stream",
     "text": [
      "\n",
      "Selected Features: ['Seasonality_Low', 'Loan_Amount', 'Age', 'Income_per_Purchase', 'Loan_Amount_log', 'Income_Spending_Interaction', 'Marketing_Spend', 'Credit_Score', 'Debt_to_Credit', 'Debt_to_Income', 'Income', 'Spending_Score', 'Customer_ID', 'Engagement_Score', 'Purchase_Frequency', 'Previous_Defaults_Weighted', 'Spending_per_Loan', 'Age_Group_Mid_Age', 'Age_Group_Adult', 'Income_log', 'Seasonality_High', 'Seasonality_Medium', 'Credit_Category_Fair', 'Credit_Category_Poor', 'Gender_Male', 'Previous_Defaults', 'Gender_Female', 'Age_Group_Senior', 'Age_Group_Young']\n"
     ]
    }
   ],
   "source": [
    "# ======================\n",
    "# 6. Feature importance via RandomForest\n",
    "# ======================\n",
    "rf_selector = RandomForestClassifier(n_estimators=200, random_state=42)\n",
    "rf_selector.fit(X_train_res, y_train_res)\n",
    "\n",
    "importances = rf_selector.feature_importances_\n",
    "feature_names = numeric_features + list(preprocessor.named_transformers_[\"cat\"][\"encoder\"].get_feature_names_out(categorical_features))\n",
    "feature_importance_df = pd.DataFrame({\"feature\": feature_names, \"importance\": importances})\n",
    "feature_importance_df.sort_values(by=\"importance\", ascending=False, inplace=True)\n",
    "\n",
    "# Keep only features with importance > threshold (e.g., 0.01)\n",
    "selected_features = feature_importance_df[feature_importance_df[\"importance\"] > 0.01][\"feature\"].tolist()\n",
    "print(\"\\nSelected Features:\", selected_features)\n",
    "\n",
    "# Reduce dataset\n",
    "from sklearn.feature_selection import SelectFromModel\n",
    "selector = SelectFromModel(rf_selector, threshold=0.01, prefit=True)\n",
    "X_train_selected = selector.transform(X_train_res)\n",
    "X_test_selected = selector.transform(X_test_preprocessed)"
   ]
  },
  {
   "cell_type": "code",
   "execution_count": 27,
   "id": "4LceK56OSEHg",
   "metadata": {
    "id": "4LceK56OSEHg"
   },
   "outputs": [],
   "source": [
    "# ======================\n",
    "# 7. Model Training with selected features\n",
    "# ======================\n",
    "models = {\n",
    "    \"LogisticRegression\": (LogisticRegression(max_iter=1000), {\"C\": [0.1, 1, 10]}),\n",
    "    \"RandomForest\": (RandomForestClassifier(random_state=42), {\"n_estimators\": [100, 200], \"max_depth\": [3, 5, None]}),\n",
    "    \"GradientBoosting\": (GradientBoostingClassifier(random_state=42), {\"n_estimators\": [100, 200], \"learning_rate\": [0.05, 0.1], \"max_depth\": [3, 5]})\n",
    "}\n",
    "\n",
    "results = {}\n",
    "\n",
    "for name, (model, params) in models.items():\n",
    "    grid = GridSearchCV(model, param_grid=params, cv=5, scoring=\"roc_auc\", n_jobs=-1)\n",
    "    grid.fit(X_train_selected, y_train_res)\n",
    "\n",
    "    y_pred = grid.predict(X_test_selected)\n",
    "    y_proba = grid.predict_proba(X_test_selected)[:,1] if hasattr(grid, \"predict_proba\") else grid.decision_function(X_test_selected)\n",
    "\n",
    "    results[name] = {\n",
    "        \"best_params\": grid.best_params_,\n",
    "        \"roc_auc\": roc_auc_score(y_test, y_proba),\n",
    "        \"classification_report\": classification_report(y_test, y_pred)\n",
    "    }"
   ]
  },
  {
   "cell_type": "code",
   "execution_count": 28,
   "id": "uNOHLH21SGgf",
   "metadata": {
    "colab": {
     "base_uri": "https://localhost:8080/"
    },
    "id": "uNOHLH21SGgf",
    "outputId": "69d88f81-5040-4981-cc33-7cba956f25dd"
   },
   "outputs": [
    {
     "name": "stdout",
     "output_type": "stream",
     "text": [
      "\n",
      "=== LogisticRegression ===\n",
      "Best params: {'C': 10}\n",
      "\n",
      "Classification Report:\n",
      "               precision    recall  f1-score   support\n",
      "\n",
      "           0       0.84      0.57      0.68        81\n",
      "           1       0.22      0.53      0.31        19\n",
      "\n",
      "    accuracy                           0.56       100\n",
      "   macro avg       0.53      0.55      0.49       100\n",
      "weighted avg       0.72      0.56      0.61       100\n",
      "\n",
      "ROC-AUC: 0.5230669265756985\n",
      "\n",
      "=== RandomForest ===\n",
      "Best params: {'max_depth': None, 'n_estimators': 200}\n",
      "\n",
      "Classification Report:\n",
      "               precision    recall  f1-score   support\n",
      "\n",
      "           0       0.80      0.94      0.86        81\n",
      "           1       0.00      0.00      0.00        19\n",
      "\n",
      "    accuracy                           0.76       100\n",
      "   macro avg       0.40      0.47      0.43       100\n",
      "weighted avg       0.65      0.76      0.70       100\n",
      "\n",
      "ROC-AUC: 0.42690058479532156\n",
      "\n",
      "=== GradientBoosting ===\n",
      "Best params: {'learning_rate': 0.05, 'max_depth': 5, 'n_estimators': 200}\n",
      "\n",
      "Classification Report:\n",
      "               precision    recall  f1-score   support\n",
      "\n",
      "           0       0.80      0.94      0.86        81\n",
      "           1       0.00      0.00      0.00        19\n",
      "\n",
      "    accuracy                           0.76       100\n",
      "   macro avg       0.40      0.47      0.43       100\n",
      "weighted avg       0.65      0.76      0.70       100\n",
      "\n",
      "ROC-AUC: 0.3768680961663418\n"
     ]
    }
   ],
   "source": [
    "# ======================\n",
    "# 8. Show results\n",
    "# ======================\n",
    "for model, metrics in results.items():\n",
    "    print(f\"\\n=== {model} ===\")\n",
    "    print(\"Best params:\", metrics[\"best_params\"])\n",
    "    print(\"\\nClassification Report:\\n\", metrics[\"classification_report\"])\n",
    "    print(\"ROC-AUC:\", metrics[\"roc_auc\"])"
   ]
  },
  {
   "cell_type": "code",
   "execution_count": 29,
   "id": "kI18hZXtSIJg",
   "metadata": {
    "colab": {
     "base_uri": "https://localhost:8080/",
     "height": 1000
    },
    "id": "kI18hZXtSIJg",
    "outputId": "205bd5f9-b413-469f-d7be-ef56af5e22a9",
    "scrolled": false
   },
   "outputs": [
    {
     "name": "stdout",
     "output_type": "stream",
     "text": [
      "\n",
      "Best model based on ROC-AUC: LogisticRegression\n"
     ]
    },
    {
     "name": "stderr",
     "output_type": "stream",
     "text": [
      "/usr/local/lib/python3.12/dist-packages/sklearn/model_selection/_validation.py:528: FitFailedWarning: \n",
      "2 fits failed out of a total of 25.\n",
      "The score on these train-test partitions for these parameters will be set to nan.\n",
      "If these failures are not expected, you can try to debug them by setting error_score='raise'.\n",
      "\n",
      "Below are more details about the failures:\n",
      "--------------------------------------------------------------------------------\n",
      "2 fits failed with the following error:\n",
      "Traceback (most recent call last):\n",
      "  File \"/usr/local/lib/python3.12/dist-packages/sklearn/model_selection/_validation.py\", line 866, in _fit_and_score\n",
      "    estimator.fit(X_train, y_train, **fit_params)\n",
      "  File \"/usr/local/lib/python3.12/dist-packages/sklearn/base.py\", line 1389, in wrapper\n",
      "    return fit_method(estimator, *args, **kwargs)\n",
      "           ^^^^^^^^^^^^^^^^^^^^^^^^^^^^^^^^^^^^^^\n",
      "  File \"/usr/local/lib/python3.12/dist-packages/sklearn/pipeline.py\", line 662, in fit\n",
      "    self._final_estimator.fit(Xt, y, **last_step_params[\"fit\"])\n",
      "  File \"/usr/local/lib/python3.12/dist-packages/sklearn/base.py\", line 1389, in wrapper\n",
      "    return fit_method(estimator, *args, **kwargs)\n",
      "           ^^^^^^^^^^^^^^^^^^^^^^^^^^^^^^^^^^^^^^\n",
      "  File \"/usr/local/lib/python3.12/dist-packages/sklearn/linear_model/_logistic.py\", line 1301, in fit\n",
      "    raise ValueError(\n",
      "ValueError: This solver needs samples of at least 2 classes in the data, but the data contains only one class: np.int64(0)\n",
      "\n",
      "  warnings.warn(some_fits_failed_message, FitFailedWarning)\n"
     ]
    },
    {
     "data": {
      "image/png": "[encoded data removed]",
      "text/plain": [
       "<Figure size 800x600 with 1 Axes>"
      ]
     },
     "metadata": {},
     "output_type": "display_data"
    },
    {
     "data": {
      "image/png": "[encoded data removed]",
      "text/plain": [
       "<Figure size 640x480 with 1 Axes>"
      ]
     },
     "metadata": {},
     "output_type": "display_data"
    },
    {
     "data": {
      "image/png": "[encoded data removed]",
      "text/plain": [
       "<Figure size 640x480 with 2 Axes>"
      ]
     },
     "metadata": {},
     "output_type": "display_data"
    }
   ],
   "source": [
    "# ======================\n",
    "# 9. Best Model Analysis (Learning Curve + ROC + Confusion Matrix)\n",
    "# ======================\n",
    "best_model_name = max(results, key=lambda m: results[m][\"roc_auc\"])\n",
    "print(f\"\\nBest model based on ROC-AUC: {best_model_name}\")\n",
    "\n",
    "best_model = Pipeline([\n",
    "    (\"regressor\", models[best_model_name][0].set_params(\n",
    "        **{k.replace(\"regressor__\", \"\"): v for k, v in results[best_model_name][\"best_params\"].items()}\n",
    "    ))\n",
    "])\n",
    "\n",
    "best_model.fit(X_train_res, y_train_res)\n",
    "y_pred_best = best_model.predict(X_test_preprocessed)\n",
    "y_proba_best = best_model.predict_proba(X_test_preprocessed)[:, 1] if hasattr(best_model, \"predict_proba\") else best_model.decision_function(X_test_preprocessed)\n",
    "\n",
    "# Learning curve\n",
    "train_sizes, train_scores, test_scores = learning_curve(\n",
    "    best_model, X_train_res, y_train_res, cv=5,\n",
    "    scoring=\"roc_auc\",\n",
    "    train_sizes=np.linspace(0.1, 1.0, 5),\n",
    "    n_jobs=-1\n",
    ")\n",
    "train_scores_mean = train_scores.mean(axis=1)\n",
    "test_scores_mean = test_scores.mean(axis=1)\n",
    "\n",
    "plt.figure(figsize=(8, 6))\n",
    "plt.plot(train_sizes, train_scores_mean, \"o-\", label=\"Training ROC-AUC\")\n",
    "plt.plot(train_sizes, test_scores_mean, \"o-\", label=\"Cross-validation ROC-AUC\")\n",
    "plt.xlabel(\"Training examples\")\n",
    "plt.ylabel(\"ROC-AUC\")\n",
    "plt.title(f\"Learning Curve ({best_model_name})\")\n",
    "plt.legend()\n",
    "plt.show()\n",
    "\n",
    "# ROC Curve\n",
    "RocCurveDisplay.from_estimator(best_model, X_test_preprocessed, y_test)\n",
    "plt.show()\n",
    "\n",
    "# Confusion Matrix\n",
    "cm = confusion_matrix(y_test, y_pred_best)\n",
    "ConfusionMatrixDisplay(cm).plot()\n",
    "plt.show()"
   ]
  },
  {
   "cell_type": "code",
   "execution_count": 30,
   "id": "vecercxASKiH",
   "metadata": {
    "colab": {
     "base_uri": "https://localhost:8080/"
    },
    "id": "vecercxASKiH",
    "outputId": "822087a5-0a3c-4986-b05a-f05976f48463"
   },
   "outputs": [
    {
     "name": "stdout",
     "output_type": "stream",
     "text": [
      "\n",
      "=== Model Comparison ===\n",
      "                Model   ROC-AUC  \\\n",
      "0  LogisticRegression  0.523067   \n",
      "1        RandomForest  0.426901   \n",
      "2    GradientBoosting  0.376868   \n",
      "\n",
      "                                         Best_Params  \n",
      "0                                          {'C': 10}  \n",
      "1           {'max_depth': None, 'n_estimators': 200}  \n",
      "2  {'learning_rate': 0.05, 'max_depth': 5, 'n_est...  \n"
     ]
    }
   ],
   "source": [
    "# ======================\n",
    "# 10. Model Comparison Table\n",
    "# ======================\n",
    "comparison_data = []\n",
    "\n",
    "for model_name, metrics in results.items():\n",
    "    comparison_data.append({\n",
    "        \"Model\": model_name,\n",
    "        \"ROC-AUC\": metrics[\"roc_auc\"],\n",
    "        \"Best_Params\": metrics[\"best_params\"]\n",
    "    })\n",
    "\n",
    "comparison_df = pd.DataFrame(comparison_data).sort_values(by=\"ROC-AUC\", ascending=False)\n",
    "comparison_df.reset_index(drop=True, inplace=True)\n",
    "\n",
    "print(\"\\n=== Model Comparison ===\")\n",
    "print(comparison_df)"
   ]
  }
 ],
 "metadata": {
  "colab": {
   "provenance": []
  },
  "kernelspec": {
   "display_name": "Python 3 (ipykernel)",
   "language": "python",
   "name": "python3"
  },
  "language_info": {
   "codemirror_mode": {
    "name": "ipython",
    "version": 3
   },
   "file_extension": ".py",
   "mimetype": "text/x-python",
   "name": "python",
   "nbconvert_exporter": "python",
   "pygments_lexer": "ipython3",
   "version": "3.9.13"
  }
 },
 "nbformat": 4,
 "nbformat_minor": 5
}
